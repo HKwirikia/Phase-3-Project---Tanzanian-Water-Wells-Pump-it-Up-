{
 "cells": [
  {
   "cell_type": "markdown",
   "metadata": {},
   "source": [
    "# 1. Introduction"
   ]
  },
  {
   "cell_type": "markdown",
   "metadata": {},
   "source": [
    "In this project, I will build a machine learning classifier that predicts condition of water wells in Tanzania using information about the well, such as the type of pump, when it was installed, etc.\n"
   ]
  },
  {
   "cell_type": "markdown",
   "metadata": {},
   "source": [
    "# 2. Business Understanding"
   ]
  },
  {
   "cell_type": "markdown",
   "metadata": {},
   "source": [
    "### 2 (a) Problem Statement"
   ]
  },
  {
   "cell_type": "markdown",
   "metadata": {},
   "source": [
    "MSABI, one of the largest water, sanitation, and hygiene (WASH) non-profit organizations in Tanzania, has a mission to improve access to clean water for  all communities in the country. \n",
    "\n",
    "Despite their efforts, many water wells in Tanzania still face challenges such as being in need of repair or failing altogether, which limits access to clean water for the population.\n",
    "\n",
    "And with a population of over 57 million, it is crucial to ensure that the country's water wells are functional and provide safe drinking water to the people.\n",
    "\n",
    "The problem that MSABI faces is that they must prioritise their efforts and allocate resources effectively to address this issue.\n",
    "\n",
    "But, currently, MSABU has limited information about the condition of water wells in the country making it difficult to determine which wells are most in need of attention."
   ]
  },
  {
   "cell_type": "markdown",
   "metadata": {},
   "source": [
    "### 2 (b) Main Objective"
   ]
  },
  {
   "cell_type": "markdown",
   "metadata": {},
   "source": [
    "To build a classifier that can predict the codition of water wells in Tanzania and improve access to clean water for communities in the country."
   ]
  },
  {
   "cell_type": "markdown",
   "metadata": {},
   "source": [
    "### 2 (c) Specific Objectives"
   ]
  },
  {
   "cell_type": "markdown",
   "metadata": {},
   "source": [
    "* Explore and understand the data related to water wells in Tanzania\n",
    "* Prepocess the data and prepare it for building the classifier\n",
    "* Build a machine learning model that can classify the condition of waterpoint as functional, functional but in need of repair, or non-functional\n",
    "* Evaluate performance of the model and fine-tune it as needed\n",
    "* Make predictions on new, unseeen data and evaluate the performance of the model\n",
    "* Use the best-performing model to inform the efforts of MSABI and as a result improve access to clean water in Tanzania.\n"
   ]
  },
  {
   "cell_type": "markdown",
   "metadata": {},
   "source": [
    "# 3. Data Understanding"
   ]
  },
  {
   "cell_type": "markdown",
   "metadata": {},
   "source": [
    "The project utilizes data from Taarifa and Tanzanian Ministry of Water. The data includes information on 59,400 waterpoints.\n",
    "\n",
    "There are three datasets available for this project, the training set labels, the training set values, and the test set values.\n",
    "\n",
    "The target variable is \"status_group\" which details the functionality of waterpoints. It is a ternary classification classified as functional, functional but in need of repair, or non-functional.\n",
    "\n",
    "The dataset includes the following features:\n",
    "* amount_tsh - Total static head (amount water available to waterpoint)\n",
    "* date_recorded - The date the row was entered\n",
    "* funder - Who funded the well\n",
    "* gps_height - Altitude of the well\n",
    "* installer - Organization that installed the well\n",
    "* longitude - GPS coordinate\n",
    "* latitude - GPS coordinate\n",
    "* wpt_name - Name of the waterpoint if there is one\n",
    "* num_private -\n",
    "* basin - Geographic water basin\n",
    "* subvillage - Geographic location\n",
    "* region - Geographic location\n",
    "* region_code - Geographic location (coded)\n",
    "* district_code - Geographic location (coded)\n",
    "* lga - Geographic location\n",
    "* ward - Geographic location\n",
    "* population - Population around the well\n",
    "* public_meeting - True/False\n",
    "* recorded_by - Group entering this row of data\n",
    "* scheme_management - Who operates the waterpoint\n",
    "* scheme_name - Who operates the waterpoint\n",
    "* permit - If the waterpoint is permitted\n",
    "* construction_year - Year the waterpoint was constructed\n",
    "* extraction_type - The kind of extraction the waterpoint uses\n",
    "* extraction_type_group - The kind of extraction the waterpoint uses\n",
    "* extraction_type_class - The kind of extraction the waterpoint uses\n",
    "* management - How the waterpoint is managed\n",
    "* management_group - How the waterpoint is managed\n",
    "* payment - What the water costs\n",
    "* payment_type - What the water costs\n",
    "* water_quality - The quality of the water\n",
    "* quality_group - The quality of the water\n",
    "* quantity - The quantity of water\n",
    "* quantity_group - The quantity of water\n",
    "* source - The source of the water\n",
    "* source_type - The source of the water\n",
    "* source_class - The source of the water\n",
    "* waterpoint_type - The kind of waterpoint\n",
    "* waterpoint_type_group - The kind of waterpoint"
   ]
  },
  {
   "cell_type": "markdown",
   "metadata": {},
   "source": [
    "# 4. Data Preparation"
   ]
  },
  {
   "cell_type": "markdown",
   "metadata": {},
   "source": [
    "### Import Libraries"
   ]
  },
  {
   "cell_type": "code",
   "execution_count": 1,
   "metadata": {},
   "outputs": [],
   "source": [
    "import numpy as np\n",
    "import pandas as pd\n",
    "import matplotlib.pyplot as plt\n",
    "import seaborn as sns\n",
    "%matplotlib inline \n",
    "\n",
    "from sklearn import preprocessing\n",
    "from sklearn.model_selection import train_test_split\n",
    "from sklearn import metrics\n",
    "\n",
    "from sklearn.linear_model import LogisticRegression\n",
    "from sklearn.svm import SVC\n",
    "\n",
    "from sklearn.tree import DecisionTreeClassifier, export_graphviz\n",
    "from sklearn.ensemble import RandomForestClassifier\n",
    "from sklearn.ensemble import ExtraTreesClassifier"
   ]
  },
  {
   "cell_type": "markdown",
   "metadata": {},
   "source": [
    "### Load Data"
   ]
  },
  {
   "cell_type": "code",
   "execution_count": 2,
   "metadata": {},
   "outputs": [],
   "source": [
    "train_values = pd.read_csv(\"Training set values.csv\")\n",
    "train_labels = pd.read_csv(\"Training set labels.csv\")"
   ]
  },
  {
   "cell_type": "code",
   "execution_count": 3,
   "metadata": {},
   "outputs": [],
   "source": [
    "test_df=pd.read_csv(\"Test set values.csv\")\n",
    "test_copy=test_df.copy()"
   ]
  },
  {
   "cell_type": "markdown",
   "metadata": {},
   "source": [
    "### Examine the Data"
   ]
  },
  {
   "cell_type": "code",
   "execution_count": 4,
   "metadata": {},
   "outputs": [
    {
     "data": {
      "text/html": [
       "<div>\n",
       "<style scoped>\n",
       "    .dataframe tbody tr th:only-of-type {\n",
       "        vertical-align: middle;\n",
       "    }\n",
       "\n",
       "    .dataframe tbody tr th {\n",
       "        vertical-align: top;\n",
       "    }\n",
       "\n",
       "    .dataframe thead th {\n",
       "        text-align: right;\n",
       "    }\n",
       "</style>\n",
       "<table border=\"1\" class=\"dataframe\">\n",
       "  <thead>\n",
       "    <tr style=\"text-align: right;\">\n",
       "      <th></th>\n",
       "      <th>id</th>\n",
       "      <th>amount_tsh</th>\n",
       "      <th>date_recorded</th>\n",
       "      <th>funder</th>\n",
       "      <th>gps_height</th>\n",
       "      <th>installer</th>\n",
       "      <th>longitude</th>\n",
       "      <th>latitude</th>\n",
       "      <th>wpt_name</th>\n",
       "      <th>num_private</th>\n",
       "      <th>...</th>\n",
       "      <th>payment_type</th>\n",
       "      <th>water_quality</th>\n",
       "      <th>quality_group</th>\n",
       "      <th>quantity</th>\n",
       "      <th>quantity_group</th>\n",
       "      <th>source</th>\n",
       "      <th>source_type</th>\n",
       "      <th>source_class</th>\n",
       "      <th>waterpoint_type</th>\n",
       "      <th>waterpoint_type_group</th>\n",
       "    </tr>\n",
       "  </thead>\n",
       "  <tbody>\n",
       "    <tr>\n",
       "      <th>0</th>\n",
       "      <td>69572</td>\n",
       "      <td>6000.0</td>\n",
       "      <td>2011-03-14</td>\n",
       "      <td>Roman</td>\n",
       "      <td>1390</td>\n",
       "      <td>Roman</td>\n",
       "      <td>34.938093</td>\n",
       "      <td>-9.856322</td>\n",
       "      <td>none</td>\n",
       "      <td>0</td>\n",
       "      <td>...</td>\n",
       "      <td>annually</td>\n",
       "      <td>soft</td>\n",
       "      <td>good</td>\n",
       "      <td>enough</td>\n",
       "      <td>enough</td>\n",
       "      <td>spring</td>\n",
       "      <td>spring</td>\n",
       "      <td>groundwater</td>\n",
       "      <td>communal standpipe</td>\n",
       "      <td>communal standpipe</td>\n",
       "    </tr>\n",
       "    <tr>\n",
       "      <th>1</th>\n",
       "      <td>8776</td>\n",
       "      <td>0.0</td>\n",
       "      <td>2013-03-06</td>\n",
       "      <td>Grumeti</td>\n",
       "      <td>1399</td>\n",
       "      <td>GRUMETI</td>\n",
       "      <td>34.698766</td>\n",
       "      <td>-2.147466</td>\n",
       "      <td>Zahanati</td>\n",
       "      <td>0</td>\n",
       "      <td>...</td>\n",
       "      <td>never pay</td>\n",
       "      <td>soft</td>\n",
       "      <td>good</td>\n",
       "      <td>insufficient</td>\n",
       "      <td>insufficient</td>\n",
       "      <td>rainwater harvesting</td>\n",
       "      <td>rainwater harvesting</td>\n",
       "      <td>surface</td>\n",
       "      <td>communal standpipe</td>\n",
       "      <td>communal standpipe</td>\n",
       "    </tr>\n",
       "  </tbody>\n",
       "</table>\n",
       "<p>2 rows × 40 columns</p>\n",
       "</div>"
      ],
      "text/plain": [
       "      id  amount_tsh date_recorded   funder  gps_height installer  longitude  \\\n",
       "0  69572      6000.0    2011-03-14    Roman        1390     Roman  34.938093   \n",
       "1   8776         0.0    2013-03-06  Grumeti        1399   GRUMETI  34.698766   \n",
       "\n",
       "   latitude  wpt_name  num_private  ... payment_type water_quality  \\\n",
       "0 -9.856322      none            0  ...     annually          soft   \n",
       "1 -2.147466  Zahanati            0  ...    never pay          soft   \n",
       "\n",
       "  quality_group      quantity  quantity_group                source  \\\n",
       "0          good        enough          enough                spring   \n",
       "1          good  insufficient    insufficient  rainwater harvesting   \n",
       "\n",
       "            source_type  source_class     waterpoint_type  \\\n",
       "0                spring   groundwater  communal standpipe   \n",
       "1  rainwater harvesting       surface  communal standpipe   \n",
       "\n",
       "  waterpoint_type_group  \n",
       "0    communal standpipe  \n",
       "1    communal standpipe  \n",
       "\n",
       "[2 rows x 40 columns]"
      ]
     },
     "execution_count": 4,
     "metadata": {},
     "output_type": "execute_result"
    }
   ],
   "source": [
    "# Preview Train Values\n",
    "train_values.head(2)"
   ]
  },
  {
   "cell_type": "code",
   "execution_count": 5,
   "metadata": {},
   "outputs": [
    {
     "data": {
      "text/html": [
       "<div>\n",
       "<style scoped>\n",
       "    .dataframe tbody tr th:only-of-type {\n",
       "        vertical-align: middle;\n",
       "    }\n",
       "\n",
       "    .dataframe tbody tr th {\n",
       "        vertical-align: top;\n",
       "    }\n",
       "\n",
       "    .dataframe thead th {\n",
       "        text-align: right;\n",
       "    }\n",
       "</style>\n",
       "<table border=\"1\" class=\"dataframe\">\n",
       "  <thead>\n",
       "    <tr style=\"text-align: right;\">\n",
       "      <th></th>\n",
       "      <th>id</th>\n",
       "      <th>status_group</th>\n",
       "    </tr>\n",
       "  </thead>\n",
       "  <tbody>\n",
       "    <tr>\n",
       "      <th>0</th>\n",
       "      <td>69572</td>\n",
       "      <td>functional</td>\n",
       "    </tr>\n",
       "    <tr>\n",
       "      <th>1</th>\n",
       "      <td>8776</td>\n",
       "      <td>functional</td>\n",
       "    </tr>\n",
       "  </tbody>\n",
       "</table>\n",
       "</div>"
      ],
      "text/plain": [
       "      id status_group\n",
       "0  69572   functional\n",
       "1   8776   functional"
      ]
     },
     "execution_count": 5,
     "metadata": {},
     "output_type": "execute_result"
    }
   ],
   "source": [
    "# Preview Train labels\n",
    "train_labels.head(2)"
   ]
  },
  {
   "cell_type": "code",
   "execution_count": 6,
   "metadata": {},
   "outputs": [],
   "source": [
    "# merge train labels and train values\n",
    "train_df = train_values.merge(train_labels,on='id',how='inner')"
   ]
  },
  {
   "cell_type": "code",
   "execution_count": 7,
   "metadata": {},
   "outputs": [
    {
     "data": {
      "text/html": [
       "<div>\n",
       "<style scoped>\n",
       "    .dataframe tbody tr th:only-of-type {\n",
       "        vertical-align: middle;\n",
       "    }\n",
       "\n",
       "    .dataframe tbody tr th {\n",
       "        vertical-align: top;\n",
       "    }\n",
       "\n",
       "    .dataframe thead th {\n",
       "        text-align: right;\n",
       "    }\n",
       "</style>\n",
       "<table border=\"1\" class=\"dataframe\">\n",
       "  <thead>\n",
       "    <tr style=\"text-align: right;\">\n",
       "      <th></th>\n",
       "      <th>id</th>\n",
       "      <th>amount_tsh</th>\n",
       "      <th>date_recorded</th>\n",
       "      <th>funder</th>\n",
       "      <th>gps_height</th>\n",
       "      <th>installer</th>\n",
       "      <th>longitude</th>\n",
       "      <th>latitude</th>\n",
       "      <th>wpt_name</th>\n",
       "      <th>num_private</th>\n",
       "      <th>...</th>\n",
       "      <th>water_quality</th>\n",
       "      <th>quality_group</th>\n",
       "      <th>quantity</th>\n",
       "      <th>quantity_group</th>\n",
       "      <th>source</th>\n",
       "      <th>source_type</th>\n",
       "      <th>source_class</th>\n",
       "      <th>waterpoint_type</th>\n",
       "      <th>waterpoint_type_group</th>\n",
       "      <th>status_group</th>\n",
       "    </tr>\n",
       "  </thead>\n",
       "  <tbody>\n",
       "    <tr>\n",
       "      <th>0</th>\n",
       "      <td>69572</td>\n",
       "      <td>6000.0</td>\n",
       "      <td>2011-03-14</td>\n",
       "      <td>Roman</td>\n",
       "      <td>1390</td>\n",
       "      <td>Roman</td>\n",
       "      <td>34.938093</td>\n",
       "      <td>-9.856322</td>\n",
       "      <td>none</td>\n",
       "      <td>0</td>\n",
       "      <td>...</td>\n",
       "      <td>soft</td>\n",
       "      <td>good</td>\n",
       "      <td>enough</td>\n",
       "      <td>enough</td>\n",
       "      <td>spring</td>\n",
       "      <td>spring</td>\n",
       "      <td>groundwater</td>\n",
       "      <td>communal standpipe</td>\n",
       "      <td>communal standpipe</td>\n",
       "      <td>functional</td>\n",
       "    </tr>\n",
       "    <tr>\n",
       "      <th>1</th>\n",
       "      <td>8776</td>\n",
       "      <td>0.0</td>\n",
       "      <td>2013-03-06</td>\n",
       "      <td>Grumeti</td>\n",
       "      <td>1399</td>\n",
       "      <td>GRUMETI</td>\n",
       "      <td>34.698766</td>\n",
       "      <td>-2.147466</td>\n",
       "      <td>Zahanati</td>\n",
       "      <td>0</td>\n",
       "      <td>...</td>\n",
       "      <td>soft</td>\n",
       "      <td>good</td>\n",
       "      <td>insufficient</td>\n",
       "      <td>insufficient</td>\n",
       "      <td>rainwater harvesting</td>\n",
       "      <td>rainwater harvesting</td>\n",
       "      <td>surface</td>\n",
       "      <td>communal standpipe</td>\n",
       "      <td>communal standpipe</td>\n",
       "      <td>functional</td>\n",
       "    </tr>\n",
       "  </tbody>\n",
       "</table>\n",
       "<p>2 rows × 41 columns</p>\n",
       "</div>"
      ],
      "text/plain": [
       "      id  amount_tsh date_recorded   funder  gps_height installer  longitude  \\\n",
       "0  69572      6000.0    2011-03-14    Roman        1390     Roman  34.938093   \n",
       "1   8776         0.0    2013-03-06  Grumeti        1399   GRUMETI  34.698766   \n",
       "\n",
       "   latitude  wpt_name  num_private  ... water_quality quality_group  \\\n",
       "0 -9.856322      none            0  ...          soft          good   \n",
       "1 -2.147466  Zahanati            0  ...          soft          good   \n",
       "\n",
       "       quantity  quantity_group                source           source_type  \\\n",
       "0        enough          enough                spring                spring   \n",
       "1  insufficient    insufficient  rainwater harvesting  rainwater harvesting   \n",
       "\n",
       "  source_class     waterpoint_type waterpoint_type_group status_group  \n",
       "0  groundwater  communal standpipe    communal standpipe   functional  \n",
       "1      surface  communal standpipe    communal standpipe   functional  \n",
       "\n",
       "[2 rows x 41 columns]"
      ]
     },
     "execution_count": 7,
     "metadata": {},
     "output_type": "execute_result"
    }
   ],
   "source": [
    "#Preview the merged data set\n",
    "train_df.head(2)"
   ]
  },
  {
   "cell_type": "code",
   "execution_count": 8,
   "metadata": {},
   "outputs": [
    {
     "data": {
      "text/plain": [
       "(59400, 41)"
      ]
     },
     "execution_count": 8,
     "metadata": {},
     "output_type": "execute_result"
    }
   ],
   "source": [
    "#check number of rows and columns of train df\n",
    "train_df.shape"
   ]
  },
  {
   "cell_type": "code",
   "execution_count": 9,
   "metadata": {},
   "outputs": [
    {
     "data": {
      "text/plain": [
       "(14850, 40)"
      ]
     },
     "execution_count": 9,
     "metadata": {},
     "output_type": "execute_result"
    }
   ],
   "source": [
    "#check number of rows and columns of test df\n",
    "test_df.shape"
   ]
  },
  {
   "cell_type": "code",
   "execution_count": 10,
   "metadata": {
    "scrolled": true
   },
   "outputs": [
    {
     "name": "stdout",
     "output_type": "stream",
     "text": [
      "<class 'pandas.core.frame.DataFrame'>\n",
      "Int64Index: 59400 entries, 0 to 59399\n",
      "Data columns (total 41 columns):\n",
      " #   Column                 Non-Null Count  Dtype  \n",
      "---  ------                 --------------  -----  \n",
      " 0   id                     59400 non-null  int64  \n",
      " 1   amount_tsh             59400 non-null  float64\n",
      " 2   date_recorded          59400 non-null  object \n",
      " 3   funder                 55765 non-null  object \n",
      " 4   gps_height             59400 non-null  int64  \n",
      " 5   installer              55745 non-null  object \n",
      " 6   longitude              59400 non-null  float64\n",
      " 7   latitude               59400 non-null  float64\n",
      " 8   wpt_name               59400 non-null  object \n",
      " 9   num_private            59400 non-null  int64  \n",
      " 10  basin                  59400 non-null  object \n",
      " 11  subvillage             59029 non-null  object \n",
      " 12  region                 59400 non-null  object \n",
      " 13  region_code            59400 non-null  int64  \n",
      " 14  district_code          59400 non-null  int64  \n",
      " 15  lga                    59400 non-null  object \n",
      " 16  ward                   59400 non-null  object \n",
      " 17  population             59400 non-null  int64  \n",
      " 18  public_meeting         56066 non-null  object \n",
      " 19  recorded_by            59400 non-null  object \n",
      " 20  scheme_management      55523 non-null  object \n",
      " 21  scheme_name            31234 non-null  object \n",
      " 22  permit                 56344 non-null  object \n",
      " 23  construction_year      59400 non-null  int64  \n",
      " 24  extraction_type        59400 non-null  object \n",
      " 25  extraction_type_group  59400 non-null  object \n",
      " 26  extraction_type_class  59400 non-null  object \n",
      " 27  management             59400 non-null  object \n",
      " 28  management_group       59400 non-null  object \n",
      " 29  payment                59400 non-null  object \n",
      " 30  payment_type           59400 non-null  object \n",
      " 31  water_quality          59400 non-null  object \n",
      " 32  quality_group          59400 non-null  object \n",
      " 33  quantity               59400 non-null  object \n",
      " 34  quantity_group         59400 non-null  object \n",
      " 35  source                 59400 non-null  object \n",
      " 36  source_type            59400 non-null  object \n",
      " 37  source_class           59400 non-null  object \n",
      " 38  waterpoint_type        59400 non-null  object \n",
      " 39  waterpoint_type_group  59400 non-null  object \n",
      " 40  status_group           59400 non-null  object \n",
      "dtypes: float64(3), int64(7), object(31)\n",
      "memory usage: 19.0+ MB\n"
     ]
    }
   ],
   "source": [
    "#summary information of merged dataframe\n",
    "train_df.info()"
   ]
  },
  {
   "cell_type": "code",
   "execution_count": 11,
   "metadata": {},
   "outputs": [
    {
     "data": {
      "text/html": [
       "<div>\n",
       "<style scoped>\n",
       "    .dataframe tbody tr th:only-of-type {\n",
       "        vertical-align: middle;\n",
       "    }\n",
       "\n",
       "    .dataframe tbody tr th {\n",
       "        vertical-align: top;\n",
       "    }\n",
       "\n",
       "    .dataframe thead th {\n",
       "        text-align: right;\n",
       "    }\n",
       "</style>\n",
       "<table border=\"1\" class=\"dataframe\">\n",
       "  <thead>\n",
       "    <tr style=\"text-align: right;\">\n",
       "      <th></th>\n",
       "      <th>id</th>\n",
       "      <th>amount_tsh</th>\n",
       "      <th>gps_height</th>\n",
       "      <th>longitude</th>\n",
       "      <th>latitude</th>\n",
       "      <th>num_private</th>\n",
       "      <th>region_code</th>\n",
       "      <th>district_code</th>\n",
       "      <th>population</th>\n",
       "      <th>construction_year</th>\n",
       "    </tr>\n",
       "  </thead>\n",
       "  <tbody>\n",
       "    <tr>\n",
       "      <th>count</th>\n",
       "      <td>59400.000000</td>\n",
       "      <td>59400.000000</td>\n",
       "      <td>59400.000000</td>\n",
       "      <td>59400.000000</td>\n",
       "      <td>5.940000e+04</td>\n",
       "      <td>59400.000000</td>\n",
       "      <td>59400.000000</td>\n",
       "      <td>59400.000000</td>\n",
       "      <td>59400.000000</td>\n",
       "      <td>59400.000000</td>\n",
       "    </tr>\n",
       "    <tr>\n",
       "      <th>mean</th>\n",
       "      <td>37115.131768</td>\n",
       "      <td>317.650385</td>\n",
       "      <td>668.297239</td>\n",
       "      <td>34.077427</td>\n",
       "      <td>-5.706033e+00</td>\n",
       "      <td>0.474141</td>\n",
       "      <td>15.297003</td>\n",
       "      <td>5.629747</td>\n",
       "      <td>179.909983</td>\n",
       "      <td>1300.652475</td>\n",
       "    </tr>\n",
       "    <tr>\n",
       "      <th>std</th>\n",
       "      <td>21453.128371</td>\n",
       "      <td>2997.574558</td>\n",
       "      <td>693.116350</td>\n",
       "      <td>6.567432</td>\n",
       "      <td>2.946019e+00</td>\n",
       "      <td>12.236230</td>\n",
       "      <td>17.587406</td>\n",
       "      <td>9.633649</td>\n",
       "      <td>471.482176</td>\n",
       "      <td>951.620547</td>\n",
       "    </tr>\n",
       "    <tr>\n",
       "      <th>min</th>\n",
       "      <td>0.000000</td>\n",
       "      <td>0.000000</td>\n",
       "      <td>-90.000000</td>\n",
       "      <td>0.000000</td>\n",
       "      <td>-1.164944e+01</td>\n",
       "      <td>0.000000</td>\n",
       "      <td>1.000000</td>\n",
       "      <td>0.000000</td>\n",
       "      <td>0.000000</td>\n",
       "      <td>0.000000</td>\n",
       "    </tr>\n",
       "    <tr>\n",
       "      <th>25%</th>\n",
       "      <td>18519.750000</td>\n",
       "      <td>0.000000</td>\n",
       "      <td>0.000000</td>\n",
       "      <td>33.090347</td>\n",
       "      <td>-8.540621e+00</td>\n",
       "      <td>0.000000</td>\n",
       "      <td>5.000000</td>\n",
       "      <td>2.000000</td>\n",
       "      <td>0.000000</td>\n",
       "      <td>0.000000</td>\n",
       "    </tr>\n",
       "    <tr>\n",
       "      <th>50%</th>\n",
       "      <td>37061.500000</td>\n",
       "      <td>0.000000</td>\n",
       "      <td>369.000000</td>\n",
       "      <td>34.908743</td>\n",
       "      <td>-5.021597e+00</td>\n",
       "      <td>0.000000</td>\n",
       "      <td>12.000000</td>\n",
       "      <td>3.000000</td>\n",
       "      <td>25.000000</td>\n",
       "      <td>1986.000000</td>\n",
       "    </tr>\n",
       "    <tr>\n",
       "      <th>75%</th>\n",
       "      <td>55656.500000</td>\n",
       "      <td>20.000000</td>\n",
       "      <td>1319.250000</td>\n",
       "      <td>37.178387</td>\n",
       "      <td>-3.326156e+00</td>\n",
       "      <td>0.000000</td>\n",
       "      <td>17.000000</td>\n",
       "      <td>5.000000</td>\n",
       "      <td>215.000000</td>\n",
       "      <td>2004.000000</td>\n",
       "    </tr>\n",
       "    <tr>\n",
       "      <th>max</th>\n",
       "      <td>74247.000000</td>\n",
       "      <td>350000.000000</td>\n",
       "      <td>2770.000000</td>\n",
       "      <td>40.345193</td>\n",
       "      <td>-2.000000e-08</td>\n",
       "      <td>1776.000000</td>\n",
       "      <td>99.000000</td>\n",
       "      <td>80.000000</td>\n",
       "      <td>30500.000000</td>\n",
       "      <td>2013.000000</td>\n",
       "    </tr>\n",
       "  </tbody>\n",
       "</table>\n",
       "</div>"
      ],
      "text/plain": [
       "                 id     amount_tsh    gps_height     longitude      latitude  \\\n",
       "count  59400.000000   59400.000000  59400.000000  59400.000000  5.940000e+04   \n",
       "mean   37115.131768     317.650385    668.297239     34.077427 -5.706033e+00   \n",
       "std    21453.128371    2997.574558    693.116350      6.567432  2.946019e+00   \n",
       "min        0.000000       0.000000    -90.000000      0.000000 -1.164944e+01   \n",
       "25%    18519.750000       0.000000      0.000000     33.090347 -8.540621e+00   \n",
       "50%    37061.500000       0.000000    369.000000     34.908743 -5.021597e+00   \n",
       "75%    55656.500000      20.000000   1319.250000     37.178387 -3.326156e+00   \n",
       "max    74247.000000  350000.000000   2770.000000     40.345193 -2.000000e-08   \n",
       "\n",
       "        num_private   region_code  district_code    population  \\\n",
       "count  59400.000000  59400.000000   59400.000000  59400.000000   \n",
       "mean       0.474141     15.297003       5.629747    179.909983   \n",
       "std       12.236230     17.587406       9.633649    471.482176   \n",
       "min        0.000000      1.000000       0.000000      0.000000   \n",
       "25%        0.000000      5.000000       2.000000      0.000000   \n",
       "50%        0.000000     12.000000       3.000000     25.000000   \n",
       "75%        0.000000     17.000000       5.000000    215.000000   \n",
       "max     1776.000000     99.000000      80.000000  30500.000000   \n",
       "\n",
       "       construction_year  \n",
       "count       59400.000000  \n",
       "mean         1300.652475  \n",
       "std           951.620547  \n",
       "min             0.000000  \n",
       "25%             0.000000  \n",
       "50%          1986.000000  \n",
       "75%          2004.000000  \n",
       "max          2013.000000  "
      ]
     },
     "execution_count": 11,
     "metadata": {},
     "output_type": "execute_result"
    }
   ],
   "source": [
    "#summary statistics of numerical columns of dataframe\n",
    "train_df.describe()"
   ]
  },
  {
   "cell_type": "markdown",
   "metadata": {},
   "source": [
    "### Data Preprocessing"
   ]
  },
  {
   "cell_type": "markdown",
   "metadata": {},
   "source": [
    "Here I will perform data cleaning, and transformation to ensure quality and accuracy of the results. \n",
    "\n",
    "Here are the main steps I will follow:\n",
    "* Handle missing values\n",
    "* Drop duplicates\n",
    "* Drop unnecessary columns\n",
    "* Further feature engineering\n",
    "* Splitting data into training and testing sets\n",
    "* Encoding target variable"
   ]
  },
  {
   "cell_type": "markdown",
   "metadata": {},
   "source": [
    "#### i) Handle Missing Values and Feature Engineering\n",
    "\n",
    "In the data summary above, I noticed there were missing values in the following columns:\n",
    "\n",
    "* funder\n",
    "* installer\n",
    "* subvillage\n",
    "* public_meeting\n",
    "* scheme_management\n",
    "* scheme_name\n",
    "* permit\n",
    "\n",
    "I will focus on each column, one by one and handle missing values appropriately.\n",
    "\n",
    "The process will as well include some feature engineering where I will group the data into smaller categories that are more useful for this analysis."
   ]
  },
  {
   "cell_type": "markdown",
   "metadata": {},
   "source": [
    "##### Funder"
   ]
  },
  {
   "cell_type": "code",
   "execution_count": 12,
   "metadata": {
    "scrolled": false
   },
   "outputs": [
    {
     "name": "stdout",
     "output_type": "stream",
     "text": [
      "There are 1897 funders.\n",
      "\n",
      "***********************************\n",
      "\n",
      "Here are the top 10 funders\n",
      "\n",
      "***********************************\n",
      "\n",
      "Government Of Tanzania    9084\n",
      "Danida                    3114\n",
      "Hesawa                    2202\n",
      "Rwssp                     1374\n",
      "World Bank                1349\n",
      "Kkkt                      1287\n",
      "World Vision              1246\n",
      "Unicef                    1057\n",
      "Tasaf                      877\n",
      "District Council           843\n",
      "Name: funder, dtype: int64\n"
     ]
    }
   ],
   "source": [
    "#funder\n",
    "funder = train_df[\"funder\"].value_counts()\n",
    "funder_count = len(funder)\n",
    "print(\"There are\", funder_count, \"funders.\\n\")\n",
    "print(\"***********************************\\n\")\n",
    "print(\"Here are the top 10 funders\\n\")\n",
    "print(\"***********************************\\n\")\n",
    "print(funder.head(10))\n"
   ]
  },
  {
   "cell_type": "markdown",
   "metadata": {},
   "source": [
    "I will divide the funder column into 6 categories. Each of the 5 top funders will remain as a category on its own and all the others will be grouped under others."
   ]
  },
  {
   "cell_type": "code",
   "execution_count": 13,
   "metadata": {},
   "outputs": [],
   "source": [
    "#function to divide funder column into 6 categories\n",
    "#Top 5 funders will remain as a category and the rest grouped as others\n",
    "def funder_categorised(train_df):\n",
    "    if train_df[\"funder\"]==\"Government Of Tanzania\":\n",
    "        return \"government\"\n",
    "    elif train_df[\"funder\"] == \"Danida\":\n",
    "        return \"danida\"\n",
    "    elif train_df[\"funder\"] == \"Hesawa\":\n",
    "        return \"hesawa\"\n",
    "    elif train_df[\"funder\"] == \"Rwssp\":\n",
    "        return \"rwssp\"\n",
    "    elif train_df[\"funder\"] == \"World Bank\":\n",
    "        return \"world_bank\"\n",
    "    else:\n",
    "        return \"other\"\n",
    "    \n",
    "#replace data with these new categories in both test and train data\n",
    "train_df[\"funder\"] = train_df.apply(lambda row: funder_categorised(row), axis = 1)\n",
    "test_df[\"funder\"] = test_df.apply(lambda row: funder_categorised(row), axis = 1)        \n",
    "    "
   ]
  },
  {
   "cell_type": "code",
   "execution_count": 14,
   "metadata": {
    "scrolled": true
   },
   "outputs": [
    {
     "data": {
      "text/plain": [
       "other         42277\n",
       "government     9084\n",
       "danida         3114\n",
       "hesawa         2202\n",
       "rwssp          1374\n",
       "world_bank     1349\n",
       "Name: funder, dtype: int64"
      ]
     },
     "execution_count": 14,
     "metadata": {},
     "output_type": "execute_result"
    }
   ],
   "source": [
    "#doublecheck new categories\n",
    "train_df[\"funder\"].value_counts()"
   ]
  },
  {
   "cell_type": "markdown",
   "metadata": {},
   "source": [
    "##### installer "
   ]
  },
  {
   "cell_type": "code",
   "execution_count": 15,
   "metadata": {},
   "outputs": [
    {
     "name": "stdout",
     "output_type": "stream",
     "text": [
      "There are 2145 installers.\n",
      "\n",
      "***********************************\n",
      "\n",
      "Here are the top 10 installers\n",
      "\n",
      "***********************************\n",
      "\n",
      "DWE                   17402\n",
      "Government             1825\n",
      "RWE                    1206\n",
      "Commu                  1060\n",
      "DANIDA                 1050\n",
      "KKKT                    898\n",
      "Hesawa                  840\n",
      "0                       777\n",
      "TCRS                    707\n",
      "Central government      622\n",
      "Name: installer, dtype: int64\n"
     ]
    }
   ],
   "source": [
    "#installer\n",
    "installer = train_df[\"installer\"].value_counts()\n",
    "installer_count = len(installer)\n",
    "print(\"There are\", installer_count, \"installers.\\n\")\n",
    "print(\"***********************************\\n\")\n",
    "print(\"Here are the top 10 installers\\n\")\n",
    "print(\"***********************************\\n\")\n",
    "print(installer.head(10))\n"
   ]
  },
  {
   "cell_type": "markdown",
   "metadata": {},
   "source": [
    "Similarly, I will divide the installer column into 6 categories. Each of the 5 top installers will remain as a category on its own and all the others will be grouped under others."
   ]
  },
  {
   "cell_type": "code",
   "execution_count": 16,
   "metadata": {},
   "outputs": [],
   "source": [
    "#function to divide installer column into 6 categories\n",
    "#Top 5 installers will remain as a category and the rest grouped as others\n",
    "def installer_categorised(train_df):\n",
    "    if train_df[\"installer\"]==\"DWE\":\n",
    "        return \"dwe\"\n",
    "    elif train_df[\"installer\"] == \"Government\":\n",
    "        return \"government\"\n",
    "    elif train_df[\"installer\"] == \"RWE\":\n",
    "        return \"rwe\"\n",
    "    elif train_df[\"installer\"] == \"Commu\":\n",
    "        return \"commu\"\n",
    "    elif train_df[\"installer\"] == \"DANIDA\":\n",
    "        return \"danida\"\n",
    "    else:\n",
    "        return \"other\"\n",
    "    \n",
    "#replace data with these ew categories in both test and train data\n",
    "train_df[\"installer\"] = train_df.apply(lambda row: installer_categorised(row), axis = 1)\n",
    "test_df[\"installer\"] = test_df.apply(lambda row: installer_categorised(row), axis = 1)        \n"
   ]
  },
  {
   "cell_type": "code",
   "execution_count": 17,
   "metadata": {},
   "outputs": [
    {
     "data": {
      "text/plain": [
       "other         36857\n",
       "dwe           17402\n",
       "government     1825\n",
       "rwe            1206\n",
       "commu          1060\n",
       "danida         1050\n",
       "Name: installer, dtype: int64"
      ]
     },
     "execution_count": 17,
     "metadata": {},
     "output_type": "execute_result"
    }
   ],
   "source": [
    "#doublecheck new categories\n",
    "train_df[\"installer\"].value_counts()"
   ]
  },
  {
   "cell_type": "markdown",
   "metadata": {},
   "source": [
    "With these new categories, let's see if we still have null values on the columns installer and funder"
   ]
  },
  {
   "cell_type": "code",
   "execution_count": 18,
   "metadata": {
    "scrolled": false
   },
   "outputs": [
    {
     "name": "stdout",
     "output_type": "stream",
     "text": [
      "The funder column has 0 missing values.\n",
      "\n",
      "The installer column has 0 missing values.\n",
      "\n"
     ]
    }
   ],
   "source": [
    "#double check missing values for funder column\n",
    "missing_values_funder = train_df[\"funder\"].isnull().sum()\n",
    "print(\"The funder column has\", missing_values_funder, \"missing values.\\n\")\n",
    "missing_values_installer = train_df[\"installer\"].isnull().sum()\n",
    "print(\"The installer column has\", missing_values_funder, \"missing values.\\n\")"
   ]
  },
  {
   "cell_type": "markdown",
   "metadata": {},
   "source": [
    "##### subvillage"
   ]
  },
  {
   "cell_type": "code",
   "execution_count": 19,
   "metadata": {
    "scrolled": true
   },
   "outputs": [
    {
     "name": "stdout",
     "output_type": "stream",
     "text": [
      "There are 19287 subvillages.\n",
      "\n",
      "***********************************\n",
      "\n",
      "Here are the top 10 subvillages\n",
      "\n",
      "***********************************\n",
      "\n",
      "Madukani    508\n",
      "Shuleni     506\n",
      "Majengo     502\n",
      "Kati        373\n",
      "Mtakuja     262\n",
      "Sokoni      232\n",
      "M           187\n",
      "Muungano    172\n",
      "Mbuyuni     164\n",
      "Mlimani     152\n",
      "Name: subvillage, dtype: int64\n"
     ]
    }
   ],
   "source": [
    "#subvillage\n",
    "subvillage = train_df[\"subvillage\"].value_counts()\n",
    "subvillage_count = len(subvillage)\n",
    "print(\"There are\", subvillage_count, \"subvillages.\\n\")\n",
    "print(\"***********************************\\n\")\n",
    "print(\"Here are the top 10 subvillages\\n\")\n",
    "print(\"***********************************\\n\")\n",
    "print(subvillage.head(10))"
   ]
  },
  {
   "cell_type": "markdown",
   "metadata": {},
   "source": [
    "Unlike  the installers and funders columns, there is not much difference between subvillages counts thus I cannot really categorise and rank the subvillages. \n",
    "\n",
    "I think it is best I drop this column"
   ]
  },
  {
   "cell_type": "code",
   "execution_count": 20,
   "metadata": {},
   "outputs": [],
   "source": [
    "#dropping subvillage column\n",
    "train_df=train_df.drop(['subvillage'],axis=1)\n",
    "test_df=test_df.drop(['subvillage'],axis=1)"
   ]
  },
  {
   "cell_type": "markdown",
   "metadata": {},
   "source": [
    "##### public meeting"
   ]
  },
  {
   "cell_type": "code",
   "execution_count": 21,
   "metadata": {
    "scrolled": true
   },
   "outputs": [
    {
     "name": "stdout",
     "output_type": "stream",
     "text": [
      "True     51011\n",
      "False     5055\n",
      "Name: public_meeting, dtype: int64\n",
      "\n",
      "The public_meeting column has 3334 missing values.\n",
      "\n"
     ]
    }
   ],
   "source": [
    "#public_meeting\n",
    "public_meeting = train_df[\"public_meeting\"].value_counts()\n",
    "print(public_meeting)\n",
    "missing_values_public_meeting = train_df[\"public_meeting\"].isnull().sum()\n",
    "print(\"\\nThe public_meeting column has\", missing_values_public_meeting, \"missing values.\\n\")"
   ]
  },
  {
   "cell_type": "markdown",
   "metadata": {},
   "source": [
    "I will replace the missing values with 'unknown' for both test and train.\n",
    "\n"
   ]
  },
  {
   "cell_type": "code",
   "execution_count": 22,
   "metadata": {},
   "outputs": [],
   "source": [
    "train_df.public_meeting = train_df.public_meeting.fillna('Unknown')\n",
    "test_df.public_meeting = test_df.public_meeting.fillna('Unknown')"
   ]
  },
  {
   "cell_type": "code",
   "execution_count": 23,
   "metadata": {},
   "outputs": [
    {
     "data": {
      "text/plain": [
       "True       51011\n",
       "False       5055\n",
       "Unknown     3334\n",
       "Name: public_meeting, dtype: int64"
      ]
     },
     "execution_count": 23,
     "metadata": {},
     "output_type": "execute_result"
    }
   ],
   "source": [
    "train_df[\"public_meeting\"].value_counts()"
   ]
  },
  {
   "cell_type": "code",
   "execution_count": 24,
   "metadata": {
    "scrolled": true
   },
   "outputs": [
    {
     "name": "stdout",
     "output_type": "stream",
     "text": [
      "\n",
      "The public_meeting column has 0 missing values.\n",
      "\n"
     ]
    }
   ],
   "source": [
    "#double check missing values for public_meeting column\n",
    "missing_values_public_meeting = train_df[\"public_meeting\"].isnull().sum()\n",
    "print(\"\\nThe public_meeting column has\", missing_values_public_meeting, \"missing values.\\n\")\n"
   ]
  },
  {
   "cell_type": "markdown",
   "metadata": {},
   "source": [
    "##### Scheme Management"
   ]
  },
  {
   "cell_type": "code",
   "execution_count": 25,
   "metadata": {
    "scrolled": true
   },
   "outputs": [
    {
     "name": "stdout",
     "output_type": "stream",
     "text": [
      "There are 12 scheme_managements.\n",
      "\n",
      "***********************************\n",
      "\n",
      "Here are the top 10 scheme_managements\n",
      "\n",
      "***********************************\n",
      "\n",
      "VWC                 36793\n",
      "WUG                  5206\n",
      "Water authority      3153\n",
      "WUA                  2883\n",
      "Water Board          2748\n",
      "Parastatal           1680\n",
      "Private operator     1063\n",
      "Company              1061\n",
      "Other                 766\n",
      "SWC                    97\n",
      "Name: scheme_management, dtype: int64\n"
     ]
    }
   ],
   "source": [
    "#scheme_management\n",
    "scheme_management = train_df[\"scheme_management\"].value_counts()\n",
    "scheme_management_count = len(scheme_management)\n",
    "print(\"There are\", scheme_management_count, \"scheme_managements.\\n\")\n",
    "print(\"***********************************\\n\")\n",
    "print(\"Here are the top 10 scheme_managements\\n\")\n",
    "print(\"***********************************\\n\")\n",
    "print(scheme_management.head(10))"
   ]
  },
  {
   "cell_type": "markdown",
   "metadata": {},
   "source": [
    "Like the funder and installer column, I will divide the scheme management column into 6 categories.\n",
    "\n",
    "Each of the 5 top scheme_management will remain as a category on its own and all the others will be grouped under others."
   ]
  },
  {
   "cell_type": "code",
   "execution_count": 26,
   "metadata": {},
   "outputs": [],
   "source": [
    "#function to divide scheme_management column into 6 categories\n",
    "#Top 5 scheme_management will remain as a category and the rest grouped as others\n",
    "def scheme_management_categorised(train_df):\n",
    "    if train_df[\"scheme_management\"]==\"VWC\":\n",
    "        return \"vwc\"\n",
    "    elif train_df[\"scheme_management\"] == \"WUG\":\n",
    "        return \"wug\"\n",
    "    elif train_df[\"scheme_management\"] == \"Water authority\":\n",
    "        return \"water_authority\"\n",
    "    elif train_df[\"scheme_management\"] == \"WUA\":\n",
    "        return \"wua\"\n",
    "    elif train_df[\"scheme_management\"] == \"Water Board\":\n",
    "        return \"water_board\"\n",
    "    else:\n",
    "        return \"other\"\n",
    "    \n",
    "#replace data with these ew categories in both test and train data\n",
    "train_df[\"scheme_management\"] = train_df.apply(lambda row: scheme_management_categorised(row), axis = 1)\n",
    "test_df[\"scheme_management\"] = test_df.apply(lambda row: scheme_management_categorised(row), axis = 1)        \n"
   ]
  },
  {
   "cell_type": "markdown",
   "metadata": {},
   "source": [
    "##### scheme name"
   ]
  },
  {
   "cell_type": "code",
   "execution_count": 27,
   "metadata": {},
   "outputs": [
    {
     "name": "stdout",
     "output_type": "stream",
     "text": [
      "There are 2696 scheme_name.\n",
      "\n",
      "***********************************\n",
      "\n",
      "Here are the top 10 scheme_names\n",
      "\n",
      "***********************************\n",
      "\n",
      "K                              682\n",
      "None                           644\n",
      "Borehole                       546\n",
      "Chalinze wate                  405\n",
      "M                              400\n",
      "DANIDA                         379\n",
      "Government                     320\n",
      "Ngana water supplied scheme    270\n",
      "wanging'ombe water supply s    261\n",
      "wanging'ombe supply scheme     234\n",
      "Name: scheme_name, dtype: int64\n"
     ]
    }
   ],
   "source": [
    "#scheme_name\n",
    "scheme_name = train_df[\"scheme_name\"].value_counts()\n",
    "scheme_name_count = len(scheme_name)\n",
    "print(\"There are\", scheme_name_count, \"scheme_name.\\n\")\n",
    "print(\"***********************************\\n\")\n",
    "print(\"Here are the top 10 scheme_names\\n\")\n",
    "print(\"***********************************\\n\")\n",
    "print(scheme_name.head(10))"
   ]
  },
  {
   "cell_type": "markdown",
   "metadata": {},
   "source": [
    "From the value counts per category, and considering that there are 2696 schemes, I see that the top 5 categories only represent a fraction of the data. \n",
    "\n",
    "I think it's best to drop this column."
   ]
  },
  {
   "cell_type": "code",
   "execution_count": 28,
   "metadata": {},
   "outputs": [],
   "source": [
    "#drop the scheme_name column on both test and train data\n",
    "train_df = train_df.drop('scheme_name', axis=1)\n",
    "test_df = test_df.drop('scheme_name', axis=1)"
   ]
  },
  {
   "cell_type": "markdown",
   "metadata": {},
   "source": [
    "##### permit"
   ]
  },
  {
   "cell_type": "code",
   "execution_count": 29,
   "metadata": {
    "scrolled": true
   },
   "outputs": [
    {
     "name": "stdout",
     "output_type": "stream",
     "text": [
      "There are 2 permit.\n",
      "\n",
      "***********************************\n",
      "\n",
      "True     38852\n",
      "False    17492\n",
      "Name: permit, dtype: int64\n",
      "\n",
      "The permit column has 3056 missing values.\n",
      "\n"
     ]
    }
   ],
   "source": [
    "#scheme_name\n",
    "permit = train_df[\"permit\"].value_counts()\n",
    "permit_count = len(permit)\n",
    "print(\"There are\", permit_count, \"permit.\\n\")\n",
    "print(\"***********************************\\n\")\n",
    "print(permit)\n",
    "missing_values_permit = train_df[\"permit\"].isnull().sum()\n",
    "print(\"\\nThe permit column has\", missing_values_permit, \"missing values.\\n\")"
   ]
  },
  {
   "cell_type": "markdown",
   "metadata": {},
   "source": [
    "I will replace the missing values with unknown both on the test and train data set"
   ]
  },
  {
   "cell_type": "code",
   "execution_count": 30,
   "metadata": {},
   "outputs": [],
   "source": [
    "train_df.permit = train_df.permit.fillna('Unknown')\n",
    "test_df.permit = test_df.permit.fillna('Unknown')"
   ]
  },
  {
   "cell_type": "markdown",
   "metadata": {},
   "source": [
    "#### Double check for missing values"
   ]
  },
  {
   "cell_type": "code",
   "execution_count": 31,
   "metadata": {
    "scrolled": true
   },
   "outputs": [
    {
     "data": {
      "text/plain": [
       "id                       0\n",
       "amount_tsh               0\n",
       "date_recorded            0\n",
       "funder                   0\n",
       "gps_height               0\n",
       "installer                0\n",
       "longitude                0\n",
       "latitude                 0\n",
       "wpt_name                 0\n",
       "num_private              0\n",
       "basin                    0\n",
       "region                   0\n",
       "region_code              0\n",
       "district_code            0\n",
       "lga                      0\n",
       "ward                     0\n",
       "population               0\n",
       "public_meeting           0\n",
       "recorded_by              0\n",
       "scheme_management        0\n",
       "permit                   0\n",
       "construction_year        0\n",
       "extraction_type          0\n",
       "extraction_type_group    0\n",
       "extraction_type_class    0\n",
       "management               0\n",
       "management_group         0\n",
       "payment                  0\n",
       "payment_type             0\n",
       "water_quality            0\n",
       "quality_group            0\n",
       "quantity                 0\n",
       "quantity_group           0\n",
       "source                   0\n",
       "source_type              0\n",
       "source_class             0\n",
       "waterpoint_type          0\n",
       "waterpoint_type_group    0\n",
       "status_group             0\n",
       "dtype: int64"
      ]
     },
     "execution_count": 31,
     "metadata": {},
     "output_type": "execute_result"
    }
   ],
   "source": [
    "train_df.apply(lambda x: sum(x.isnull()), axis=0)"
   ]
  },
  {
   "cell_type": "markdown",
   "metadata": {},
   "source": [
    "The data now has no missing values."
   ]
  },
  {
   "cell_type": "markdown",
   "metadata": {},
   "source": [
    "#### ii) Dealing with Duplicates\n",
    "\n",
    "There are a few columns that appear like they represent the same information. I will investigate them further below. These are:\n",
    "* waterpoint_type\n",
    "* waterpoint_type_group\n",
    "\n",
    "\n",
    "* source\n",
    "* source_type\n",
    "* source_class\n",
    "\n",
    "\n",
    "* quantity\n",
    "* quantity_group\n",
    "\n",
    "\n",
    "* water_quality\n",
    "* quality_group\n",
    "\n",
    "\n",
    "* payment\n",
    "* payment_type\n",
    "\n",
    "\n",
    "* management\n",
    "* management_group\n",
    "\n",
    "\n",
    "* extraction_type\n",
    "* extraction_type_group\n",
    "* extraction_type_class\n"
   ]
  },
  {
   "cell_type": "markdown",
   "metadata": {},
   "source": [
    "#### waterpoint_type"
   ]
  },
  {
   "cell_type": "code",
   "execution_count": 32,
   "metadata": {},
   "outputs": [
    {
     "name": "stdout",
     "output_type": "stream",
     "text": [
      "communal standpipe             28522\n",
      "hand pump                      17488\n",
      "other                           6380\n",
      "communal standpipe multiple     6103\n",
      "improved spring                  784\n",
      "cattle trough                    116\n",
      "dam                                7\n",
      "Name: waterpoint_type, dtype: int64\n",
      "\n",
      "*****************************************\n",
      "communal standpipe    34625\n",
      "hand pump             17488\n",
      "other                  6380\n",
      "improved spring         784\n",
      "cattle trough           116\n",
      "dam                       7\n",
      "Name: waterpoint_type_group, dtype: int64\n"
     ]
    }
   ],
   "source": [
    "print(train_df['waterpoint_type'].value_counts())\n",
    "print(\"\\n*****************************************\")\n",
    "print(train_df['waterpoint_type_group'].value_counts())"
   ]
  },
  {
   "cell_type": "markdown",
   "metadata": {},
   "source": [
    "The two columns appear similar, only that the communal standpipe and communal standpipe multiple has been merged in the water_type_group. I will drop the waterpoint_type column"
   ]
  },
  {
   "cell_type": "code",
   "execution_count": 33,
   "metadata": {},
   "outputs": [],
   "source": [
    "#drop waterpoint_type column in both test and train data\n",
    "train_df=train_df.drop(['waterpoint_type'],axis=1)\n",
    "test_df=test_df.drop(['waterpoint_type'],axis=1)\n"
   ]
  },
  {
   "cell_type": "markdown",
   "metadata": {},
   "source": [
    "#### source"
   ]
  },
  {
   "cell_type": "code",
   "execution_count": 34,
   "metadata": {
    "scrolled": true
   },
   "outputs": [
    {
     "name": "stdout",
     "output_type": "stream",
     "text": [
      "spring                  17021\n",
      "shallow well            16824\n",
      "machine dbh             11075\n",
      "river                    9612\n",
      "rainwater harvesting     2295\n",
      "hand dtw                  874\n",
      "lake                      765\n",
      "dam                       656\n",
      "other                     212\n",
      "unknown                    66\n",
      "Name: source, dtype: int64\n",
      "\n",
      "*****************************************\n",
      "spring                  17021\n",
      "shallow well            16824\n",
      "borehole                11949\n",
      "river/lake              10377\n",
      "rainwater harvesting     2295\n",
      "dam                       656\n",
      "other                     278\n",
      "Name: source_type, dtype: int64\n",
      "\n",
      "*****************************************\n",
      "groundwater    45794\n",
      "surface        13328\n",
      "unknown          278\n",
      "Name: source_class, dtype: int64\n"
     ]
    }
   ],
   "source": [
    "print(train_df['source'].value_counts())\n",
    "print(\"\\n*****************************************\")\n",
    "print(train_df['source_type'].value_counts())\n",
    "print(\"\\n*****************************************\")\n",
    "print(train_df['source_class'].value_counts())"
   ]
  },
  {
   "cell_type": "markdown",
   "metadata": {},
   "source": [
    "I see that source and source_type represent the same information, just that source_type has been consolidated to lesser categories. I will drop the column source."
   ]
  },
  {
   "cell_type": "code",
   "execution_count": 35,
   "metadata": {},
   "outputs": [],
   "source": [
    "#drop source column in both test and train\n",
    "train_df=train_df.drop(['source'],axis=1)\n",
    "test_df=test_df.drop(['source'],axis=1)"
   ]
  },
  {
   "cell_type": "markdown",
   "metadata": {},
   "source": [
    "#### quantity"
   ]
  },
  {
   "cell_type": "code",
   "execution_count": 36,
   "metadata": {},
   "outputs": [
    {
     "name": "stdout",
     "output_type": "stream",
     "text": [
      "enough          33186\n",
      "insufficient    15129\n",
      "dry              6246\n",
      "seasonal         4050\n",
      "unknown           789\n",
      "Name: quantity, dtype: int64\n",
      "\n",
      "*****************************************\n",
      "enough          33186\n",
      "insufficient    15129\n",
      "dry              6246\n",
      "seasonal         4050\n",
      "unknown           789\n",
      "Name: quantity_group, dtype: int64\n"
     ]
    }
   ],
   "source": [
    "print(train_df['quantity'].value_counts())\n",
    "print(\"\\n*****************************************\")\n",
    "print(train_df['quantity_group'].value_counts())"
   ]
  },
  {
   "cell_type": "markdown",
   "metadata": {},
   "source": [
    "From the above, I see that these two columns contain the exact same information. I will drop the quantity column."
   ]
  },
  {
   "cell_type": "code",
   "execution_count": 37,
   "metadata": {},
   "outputs": [],
   "source": [
    "#drop quantity column in both test and train\n",
    "train_df=train_df.drop(['quantity'],axis=1)\n",
    "test_df=test_df.drop(['quantity'],axis=1)"
   ]
  },
  {
   "cell_type": "markdown",
   "metadata": {},
   "source": [
    "#### quality"
   ]
  },
  {
   "cell_type": "code",
   "execution_count": 38,
   "metadata": {},
   "outputs": [
    {
     "name": "stdout",
     "output_type": "stream",
     "text": [
      "soft                  50818\n",
      "salty                  4856\n",
      "unknown                1876\n",
      "milky                   804\n",
      "coloured                490\n",
      "salty abandoned         339\n",
      "fluoride                200\n",
      "fluoride abandoned       17\n",
      "Name: water_quality, dtype: int64\n",
      "\n",
      "*****************************************\n",
      "good        50818\n",
      "salty        5195\n",
      "unknown      1876\n",
      "milky         804\n",
      "colored       490\n",
      "fluoride      217\n",
      "Name: quality_group, dtype: int64\n"
     ]
    }
   ],
   "source": [
    "print(train_df[\"water_quality\"].value_counts())\n",
    "print(\"\\n*****************************************\")\n",
    "print(train_df[\"quality_group\"].value_counts())"
   ]
  },
  {
   "cell_type": "markdown",
   "metadata": {},
   "source": [
    "The two columns as well represent similar information. Just that fluoride and fluoride abandoned have been merged in the quality_group column.I will drop the water_quality column. "
   ]
  },
  {
   "cell_type": "code",
   "execution_count": 39,
   "metadata": {},
   "outputs": [],
   "source": [
    "# drop water_quality column\n",
    "train_df=train_df.drop(['water_quality'],axis=1)\n",
    "test_df=test_df.drop(['water_quality'],axis=1)\n",
    "\n"
   ]
  },
  {
   "cell_type": "markdown",
   "metadata": {},
   "source": [
    "#### payment"
   ]
  },
  {
   "cell_type": "code",
   "execution_count": 40,
   "metadata": {},
   "outputs": [
    {
     "name": "stdout",
     "output_type": "stream",
     "text": [
      "never pay                25348\n",
      "pay per bucket            8985\n",
      "pay monthly               8300\n",
      "unknown                   8157\n",
      "pay when scheme fails     3914\n",
      "pay annually              3642\n",
      "other                     1054\n",
      "Name: payment, dtype: int64\n",
      "\n",
      "*****************************************\n",
      "never pay     25348\n",
      "per bucket     8985\n",
      "monthly        8300\n",
      "unknown        8157\n",
      "on failure     3914\n",
      "annually       3642\n",
      "other          1054\n",
      "Name: payment_type, dtype: int64\n"
     ]
    }
   ],
   "source": [
    "print(train_df[\"payment\"].value_counts())\n",
    "print(\"\\n*****************************************\")\n",
    "print(train_df[\"payment_type\"].value_counts())"
   ]
  },
  {
   "cell_type": "markdown",
   "metadata": {},
   "source": [
    "The two columns as well contain similar information. I will drop the payment column since names on payment_type are shorter."
   ]
  },
  {
   "cell_type": "code",
   "execution_count": 41,
   "metadata": {},
   "outputs": [],
   "source": [
    "#drop payment column\n",
    "train_df=train_df.drop(['payment'],axis=1)\n",
    "test_df=test_df.drop(['payment'],axis=1)"
   ]
  },
  {
   "cell_type": "markdown",
   "metadata": {},
   "source": [
    "#### management"
   ]
  },
  {
   "cell_type": "code",
   "execution_count": 42,
   "metadata": {
    "scrolled": true
   },
   "outputs": [
    {
     "name": "stdout",
     "output_type": "stream",
     "text": [
      "vwc                 40507\n",
      "wug                  6515\n",
      "water board          2933\n",
      "wua                  2535\n",
      "private operator     1971\n",
      "parastatal           1768\n",
      "water authority       904\n",
      "other                 844\n",
      "company               685\n",
      "unknown               561\n",
      "other - school         99\n",
      "trust                  78\n",
      "Name: management, dtype: int64\n",
      "\n",
      "*****************************************\n",
      "user-group    52490\n",
      "commercial     3638\n",
      "parastatal     1768\n",
      "other           943\n",
      "unknown         561\n",
      "Name: management_group, dtype: int64\n"
     ]
    }
   ],
   "source": [
    "print(train_df[\"management\"].value_counts())\n",
    "print(\"\\n*****************************************\")\n",
    "print(train_df[\"management_group\"].value_counts())"
   ]
  },
  {
   "cell_type": "markdown",
   "metadata": {},
   "source": [
    "From the above we can see that the two columns also contain similar information. I will drop management column."
   ]
  },
  {
   "cell_type": "code",
   "execution_count": 43,
   "metadata": {},
   "outputs": [],
   "source": [
    "#drop management column in both test and train\n",
    "train_df=train_df.drop(['management'],axis=1)\n",
    "test_df=test_df.drop(['management'],axis=1)"
   ]
  },
  {
   "cell_type": "markdown",
   "metadata": {},
   "source": [
    "#### extraction"
   ]
  },
  {
   "cell_type": "code",
   "execution_count": 44,
   "metadata": {},
   "outputs": [
    {
     "name": "stdout",
     "output_type": "stream",
     "text": [
      "gravity                      26780\n",
      "nira/tanira                   8154\n",
      "other                         6430\n",
      "submersible                   4764\n",
      "swn 80                        3670\n",
      "mono                          2865\n",
      "india mark ii                 2400\n",
      "afridev                       1770\n",
      "ksb                           1415\n",
      "other - rope pump              451\n",
      "other - swn 81                 229\n",
      "windmill                       117\n",
      "india mark iii                  98\n",
      "cemo                            90\n",
      "other - play pump               85\n",
      "walimi                          48\n",
      "climax                          32\n",
      "other - mkulima/shinyanga        2\n",
      "Name: extraction_type, dtype: int64\n",
      "\n",
      "*****************************************\n",
      "gravity            26780\n",
      "nira/tanira         8154\n",
      "other               6430\n",
      "submersible         6179\n",
      "swn 80              3670\n",
      "mono                2865\n",
      "india mark ii       2400\n",
      "afridev             1770\n",
      "rope pump            451\n",
      "other handpump       364\n",
      "other motorpump      122\n",
      "wind-powered         117\n",
      "india mark iii        98\n",
      "Name: extraction_type_group, dtype: int64\n",
      "\n",
      "*****************************************\n",
      "gravity         26780\n",
      "handpump        16456\n",
      "other            6430\n",
      "submersible      6179\n",
      "motorpump        2987\n",
      "rope pump         451\n",
      "wind-powered      117\n",
      "Name: extraction_type_class, dtype: int64\n"
     ]
    }
   ],
   "source": [
    "print(train_df['extraction_type'].value_counts())\n",
    "print(\"\\n*****************************************\")\n",
    "print(train_df['extraction_type_group'].value_counts())\n",
    "print(\"\\n*****************************************\")\n",
    "print(train_df['extraction_type_class'].value_counts())"
   ]
  },
  {
   "cell_type": "markdown",
   "metadata": {},
   "source": [
    "From the above we can see that the three columns contain almost similar information. However, extraction_type_class has grouped the values in fewer categories which are better for this analysis. I will drop the other two columns."
   ]
  },
  {
   "cell_type": "code",
   "execution_count": 45,
   "metadata": {},
   "outputs": [],
   "source": [
    "#drop extraction_type group and extraction_type on both test and train df\n",
    "train_df=train_df.drop(['extraction_type'],axis=1)\n",
    "test_df=test_df.drop(['extraction_type'],axis=1)\n",
    "\n",
    "train_df=train_df.drop(['extraction_type_group'],axis=1)\n",
    "test_df=test_df.drop(['extraction_type_group'],axis=1)"
   ]
  },
  {
   "cell_type": "code",
   "execution_count": 46,
   "metadata": {},
   "outputs": [
    {
     "name": "stdout",
     "output_type": "stream",
     "text": [
      "There are 0 duplicates\n"
     ]
    }
   ],
   "source": [
    "#check for any other duplicates in rows using id as unique identifier\n",
    "print(f'There are {train_df.duplicated().sum()} duplicates')"
   ]
  },
  {
   "cell_type": "markdown",
   "metadata": {},
   "source": [
    "The data has no duplicates"
   ]
  },
  {
   "cell_type": "markdown",
   "metadata": {},
   "source": [
    "#### iii) Drop Unnecessary Columns"
   ]
  },
  {
   "cell_type": "code",
   "execution_count": 47,
   "metadata": {},
   "outputs": [
    {
     "data": {
      "text/plain": [
       "GeoData Consultants Ltd    59400\n",
       "Name: recorded_by, dtype: int64"
      ]
     },
     "execution_count": 47,
     "metadata": {},
     "output_type": "execute_result"
    }
   ],
   "source": [
    "train_df['recorded_by'].value_counts()"
   ]
  },
  {
   "cell_type": "markdown",
   "metadata": {},
   "source": [
    "All the entries were recorded by GeoData Consultants Ltd. Thus, we won't be needing this column."
   ]
  },
  {
   "cell_type": "code",
   "execution_count": 48,
   "metadata": {},
   "outputs": [],
   "source": [
    "# drop recorded_by column in both test and train data\n",
    "train_df=train_df.drop(['recorded_by'],axis=1)\n",
    "test_df=test_df.drop(['recorded_by'],axis=1)\n"
   ]
  },
  {
   "cell_type": "markdown",
   "metadata": {},
   "source": [
    "A description of the num_private column was not given on Driven Data. I will drop that as it appears unnecessary. The column id doesnot also add any valuable information for this analysis."
   ]
  },
  {
   "cell_type": "code",
   "execution_count": 49,
   "metadata": {},
   "outputs": [],
   "source": [
    "#drop num_private column\n",
    "train_df = train_df.drop(['num_private', 'id'], axis=1)\n",
    "test_df = test_df.drop(['num_private', 'id'], axis=1)"
   ]
  },
  {
   "cell_type": "markdown",
   "metadata": {},
   "source": [
    "There are so many columns representing geographical information. I am going to drop all others and remain with basin."
   ]
  },
  {
   "cell_type": "code",
   "execution_count": 50,
   "metadata": {},
   "outputs": [],
   "source": [
    "#drop extra geographical information columns\n",
    "train_df = train_df.drop(['gps_height', 'longitude', 'latitude', 'region_code','region_code', 'district_code', 'ward', 'lga','region'], axis=1)\n",
    "test_df = test_df.drop(['gps_height', 'longitude', 'latitude', 'region_code', 'region_code', 'district_code', 'ward', 'lga','region'], axis=1)"
   ]
  },
  {
   "cell_type": "markdown",
   "metadata": {},
   "source": [
    "The column wpt_name provides is too generalised and has too many categories. We will drop that and use the information provided in the waterpoint_type_group instead"
   ]
  },
  {
   "cell_type": "code",
   "execution_count": 51,
   "metadata": {
    "scrolled": false
   },
   "outputs": [
    {
     "name": "stdout",
     "output_type": "stream",
     "text": [
      "none               3563\n",
      "Shuleni            1748\n",
      "Zahanati            830\n",
      "Msikitini           535\n",
      "Kanisani            323\n",
      "Bombani             271\n",
      "Sokoni              260\n",
      "Ofisini             254\n",
      "School              208\n",
      "Shule Ya Msingi     199\n",
      "Name: wpt_name, dtype: int64\n",
      "\n",
      "**********************************************\n",
      "communal standpipe    34625\n",
      "hand pump             17488\n",
      "other                  6380\n",
      "improved spring         784\n",
      "cattle trough           116\n",
      "dam                       7\n",
      "Name: waterpoint_type_group, dtype: int64\n"
     ]
    }
   ],
   "source": [
    "#preview wpt_name and waterpoint_type_group columns\n",
    "print(train_df[\"wpt_name\"].value_counts().head(10))\n",
    "print(\"\\n**********************************************\")\n",
    "print(train_df[\"waterpoint_type_group\"].value_counts().head(10))"
   ]
  },
  {
   "cell_type": "code",
   "execution_count": 52,
   "metadata": {},
   "outputs": [],
   "source": [
    "#drop wpt_name column\n",
    "train_df = train_df.drop([\"wpt_name\"], axis=1)\n",
    "test_df = test_df.drop([\"wpt_name\"], axis=1)"
   ]
  },
  {
   "cell_type": "markdown",
   "metadata": {},
   "source": [
    "#### iv) Further Feature Engineering"
   ]
  },
  {
   "cell_type": "markdown",
   "metadata": {},
   "source": [
    "#### construction year"
   ]
  },
  {
   "cell_type": "code",
   "execution_count": 53,
   "metadata": {},
   "outputs": [
    {
     "name": "stdout",
     "output_type": "stream",
     "text": [
      "0       20709\n",
      "2010     2645\n",
      "2008     2613\n",
      "2009     2533\n",
      "2000     2091\n",
      "Name: construction_year, dtype: int64\n",
      "1964    40\n",
      "1962    30\n",
      "1961    21\n",
      "1965    19\n",
      "1966    17\n",
      "Name: construction_year, dtype: int64\n",
      "************\n",
      "The total number of years: 55\n"
     ]
    }
   ],
   "source": [
    "print(train_df[\"construction_year\"].value_counts().head(5))\n",
    "print(train_df[\"construction_year\"].value_counts().tail(5))\n",
    "print(\"************\")\n",
    "print(\"The total number of years:\", len(train_df[\"construction_year\"].value_counts()))\n"
   ]
  },
  {
   "cell_type": "code",
   "execution_count": 54,
   "metadata": {},
   "outputs": [],
   "source": [
    "# Turn construction_year into a categorical column containing the following values: '60s', '70s',\n",
    "# '80s', '90s, '00s', '10s', 'unknown'.\n",
    "\n",
    "def construction_year_categorised(row):\n",
    "    if row['construction_year'] >= 1960 and row['construction_year'] < 1970:\n",
    "        return '60s'\n",
    "    elif row['construction_year'] >= 1970 and row['construction_year'] < 1980:\n",
    "        return '70s'\n",
    "    elif row['construction_year'] >= 1980 and row['construction_year'] < 1990:\n",
    "        return '80s'\n",
    "    elif row['construction_year'] >= 1990 and row['construction_year'] < 2000:\n",
    "        return '90s'\n",
    "    elif row['construction_year'] >= 2000 and row['construction_year'] < 2010:\n",
    "        return '00s'\n",
    "    elif row['construction_year'] >= 2010:\n",
    "        return '10s'\n",
    "    else:\n",
    "        return 'unknown'\n",
    "    \n",
    "train_df['construction_year'] = train_df.apply(lambda row: construction_year_categorised(row), axis=1)\n",
    "test_df['construction_year'] = test_df.apply(lambda row: construction_year_categorised(row), axis=1)"
   ]
  },
  {
   "cell_type": "markdown",
   "metadata": {},
   "source": [
    "It appears that the oldest wells were constructed in the 1960s and the newest were constructed in 2010.\n",
    "\n",
    "However, the years span over 50 and those may not be practical to analyse. We will bin the years to five categories, per decade."
   ]
  },
  {
   "cell_type": "markdown",
   "metadata": {},
   "source": [
    "#### Date Recorded"
   ]
  },
  {
   "cell_type": "markdown",
   "metadata": {},
   "source": [
    "I will first convert this from type object to datetime."
   ]
  },
  {
   "cell_type": "code",
   "execution_count": 55,
   "metadata": {},
   "outputs": [
    {
     "data": {
      "text/plain": [
       "count                            59400\n",
       "mean     2012-03-29 09:11:33.818181888\n",
       "min                2002-10-14 00:00:00\n",
       "25%                2011-04-01 00:00:00\n",
       "50%                2012-10-10 00:00:00\n",
       "75%                2013-02-09 00:00:00\n",
       "max                2013-12-03 00:00:00\n",
       "Name: date_recorded, dtype: object"
      ]
     },
     "execution_count": 55,
     "metadata": {},
     "output_type": "execute_result"
    }
   ],
   "source": [
    "#convert date_recorded to datetime in both train and test\n",
    "from datetime import datetime\n",
    "\n",
    "train_df.date_recorded = pd.to_datetime(train_df.date_recorded)\n",
    "test_df.date_recorded = pd.to_datetime(test_df.date_recorded)\n",
    "\n",
    "train_df.date_recorded.describe(datetime_is_numeric=True)\n"
   ]
  },
  {
   "cell_type": "markdown",
   "metadata": {},
   "source": [
    "The most recent data is of 2013-12-03. I will subtract each date from this point to obtain a  'days_ago' column, that shows how many days ago it was recorded.  "
   ]
  },
  {
   "cell_type": "code",
   "execution_count": 56,
   "metadata": {
    "scrolled": true
   },
   "outputs": [],
   "source": [
    "#convert it to days_ago which shows how many days since it was recorded.\n",
    "\n",
    "import datetime\n",
    "\n",
    "ref_date = datetime.datetime(2013, 12, 3)\n",
    "\n",
    "#train\n",
    "train_df['days_ago'] = (ref_date - train_df['date_recorded']).dt.days\n",
    "train_df = train_df.drop('date_recorded', axis=1)\n",
    "train_df['days_ago'].describe()\n",
    "\n",
    "#test\n",
    "test_df['date_recorded'] = pd.to_datetime(test_df['date_recorded'])\n",
    "test_df['days_ago'] = (ref_date - test_df['date_recorded']).dt.days\n",
    "test_df = test_df.drop('date_recorded', axis=1)"
   ]
  },
  {
   "cell_type": "code",
   "execution_count": 57,
   "metadata": {
    "scrolled": true
   },
   "outputs": [
    {
     "data": {
      "text/plain": [
       "amount_tsh                 98\n",
       "funder                      6\n",
       "installer                   6\n",
       "basin                       9\n",
       "population               1049\n",
       "public_meeting              3\n",
       "scheme_management           6\n",
       "permit                      3\n",
       "construction_year           7\n",
       "extraction_type_class       7\n",
       "management_group            5\n",
       "payment_type                7\n",
       "quality_group               6\n",
       "quantity_group              5\n",
       "source_type                 7\n",
       "source_class                3\n",
       "waterpoint_type_group       6\n",
       "status_group                3\n",
       "days_ago                  356\n",
       "dtype: int64"
      ]
     },
     "execution_count": 57,
     "metadata": {},
     "output_type": "execute_result"
    }
   ],
   "source": [
    "train_df.apply(lambda x: len(x.unique()))"
   ]
  },
  {
   "cell_type": "code",
   "execution_count": 58,
   "metadata": {
    "scrolled": false
   },
   "outputs": [
    {
     "data": {
      "text/plain": [
       "amount_tsh                68\n",
       "funder                     6\n",
       "installer                  6\n",
       "basin                      9\n",
       "population               637\n",
       "public_meeting             3\n",
       "scheme_management          6\n",
       "permit                     3\n",
       "construction_year          7\n",
       "extraction_type_class      7\n",
       "management_group           5\n",
       "payment_type               7\n",
       "quality_group              6\n",
       "quantity_group             5\n",
       "source_type                7\n",
       "source_class               3\n",
       "waterpoint_type_group      6\n",
       "days_ago                 331\n",
       "dtype: int64"
      ]
     },
     "execution_count": 58,
     "metadata": {},
     "output_type": "execute_result"
    }
   ],
   "source": [
    "test_df.apply(lambda x: len(x.unique()))"
   ]
  },
  {
   "cell_type": "code",
   "execution_count": 59,
   "metadata": {},
   "outputs": [
    {
     "data": {
      "text/plain": [
       "(59400, 19)"
      ]
     },
     "execution_count": 59,
     "metadata": {},
     "output_type": "execute_result"
    }
   ],
   "source": [
    "train_df.shape"
   ]
  },
  {
   "cell_type": "code",
   "execution_count": 60,
   "metadata": {},
   "outputs": [
    {
     "data": {
      "text/plain": [
       "(14850, 18)"
      ]
     },
     "execution_count": 60,
     "metadata": {},
     "output_type": "execute_result"
    }
   ],
   "source": [
    "test_df.shape"
   ]
  },
  {
   "cell_type": "markdown",
   "metadata": {},
   "source": [
    "## Exploratory Data Analysis"
   ]
  },
  {
   "cell_type": "markdown",
   "metadata": {},
   "source": [
    "### 1. Univariate Analysis - Categorical Columns"
   ]
  },
  {
   "cell_type": "markdown",
   "metadata": {},
   "source": [
    "#### Status_group\n",
    "\n",
    "This is our target variable, which shows whether a waterpoint is functional, functional and needs repair or non-functional."
   ]
  },
  {
   "cell_type": "code",
   "execution_count": 61,
   "metadata": {},
   "outputs": [
    {
     "data": {
      "image/png": "[encoded data removed]",
      "text/plain": [
       "<Figure size 864x576 with 1 Axes>"
      ]
     },
     "metadata": {},
     "output_type": "display_data"
    }
   ],
   "source": [
    "fig, ax = plt.subplots(figsize=(12,8))\n",
    "train_df['status_group'].value_counts().plot(kind='pie', autopct='%.0f%%');"
   ]
  },
  {
   "cell_type": "markdown",
   "metadata": {},
   "source": [
    "55% of waterpoints are functional, 38% are non-functional, while 7% are functional needs repair."
   ]
  },
  {
   "cell_type": "markdown",
   "metadata": {},
   "source": [
    "#### Quantity"
   ]
  },
  {
   "cell_type": "code",
   "execution_count": 62,
   "metadata": {},
   "outputs": [],
   "source": [
    "#function to display count plots of the selected column\n",
    "def count_plot(data,column,hue=None):\n",
    "    plt.figure(figsize=(12,6))\n",
    "    sns.countplot(x=column,data=data,hue=hue,order = data[column].value_counts().index)\n",
    "    plt.title(f\"{column} count plot\")\n",
    "    plt.ylabel('Count')\n",
    "    plt.xticks(rotation = 45)\n",
    "    plt.show()"
   ]
  },
  {
   "cell_type": "code",
   "execution_count": 63,
   "metadata": {},
   "outputs": [
    {
     "data": {
      "image/png": "[encoded data removed]",
      "text/plain": [
       "<Figure size 864x432 with 1 Axes>"
      ]
     },
     "metadata": {
      "needs_background": "light"
     },
     "output_type": "display_data"
    }
   ],
   "source": [
    "count_plot(train_df, 'quantity_group')"
   ]
  },
  {
   "cell_type": "markdown",
   "metadata": {},
   "source": [
    "Most waterpoints have enough water."
   ]
  },
  {
   "cell_type": "markdown",
   "metadata": {},
   "source": [
    "#### basin"
   ]
  },
  {
   "cell_type": "code",
   "execution_count": 64,
   "metadata": {
    "scrolled": true
   },
   "outputs": [
    {
     "data": {
      "image/png": "[encoded data removed]",
      "text/plain": [
       "<Figure size 864x432 with 1 Axes>"
      ]
     },
     "metadata": {
      "needs_background": "light"
     },
     "output_type": "display_data"
    }
   ],
   "source": [
    "count_plot(train_df, 'basin')"
   ]
  },
  {
   "cell_type": "markdown",
   "metadata": {},
   "source": [
    "Most waterpoints draw their water from Lake Victoria, then Pangani, followed by Rufiji."
   ]
  },
  {
   "cell_type": "markdown",
   "metadata": {},
   "source": [
    "#### extraction type class"
   ]
  },
  {
   "cell_type": "code",
   "execution_count": 65,
   "metadata": {},
   "outputs": [
    {
     "data": {
      "image/png": "[encoded data removed]",
      "text/plain": [
       "<Figure size 864x432 with 1 Axes>"
      ]
     },
     "metadata": {
      "needs_background": "light"
     },
     "output_type": "display_data"
    }
   ],
   "source": [
    "count_plot(train_df, 'extraction_type_class')"
   ]
  },
  {
   "cell_type": "markdown",
   "metadata": {},
   "source": [
    "A majority of the waterpoints use pumps that extract water gravitiy wise, followed by handpumps, while wind-powered options are the least common."
   ]
  },
  {
   "cell_type": "markdown",
   "metadata": {},
   "source": [
    "#### source type"
   ]
  },
  {
   "cell_type": "code",
   "execution_count": 66,
   "metadata": {},
   "outputs": [
    {
     "data": {
      "image/png": "[encoded data removed]",
      "text/plain": [
       "<Figure size 864x432 with 1 Axes>"
      ]
     },
     "metadata": {
      "needs_background": "light"
     },
     "output_type": "display_data"
    }
   ],
   "source": [
    "count_plot(train_df, 'source_type')"
   ]
  },
  {
   "cell_type": "markdown",
   "metadata": {},
   "source": [
    "Springs and shallow wells are the most common sources of water for waterpoints."
   ]
  },
  {
   "cell_type": "markdown",
   "metadata": {},
   "source": [
    "#### waterpoint type group"
   ]
  },
  {
   "cell_type": "code",
   "execution_count": 67,
   "metadata": {
    "scrolled": true
   },
   "outputs": [
    {
     "data": {
      "image/png": "[encoded data removed]",
      "text/plain": [
       "<Figure size 864x432 with 1 Axes>"
      ]
     },
     "metadata": {
      "needs_background": "light"
     },
     "output_type": "display_data"
    }
   ],
   "source": [
    "count_plot(train_df, 'waterpoint_type_group')"
   ]
  },
  {
   "cell_type": "markdown",
   "metadata": {},
   "source": [
    "The most common type of waterpoints are communal standpipes"
   ]
  },
  {
   "cell_type": "markdown",
   "metadata": {},
   "source": [
    "#### funder"
   ]
  },
  {
   "cell_type": "code",
   "execution_count": 68,
   "metadata": {},
   "outputs": [
    {
     "data": {
      "image/png": "[encoded data removed]",
      "text/plain": [
       "<Figure size 864x432 with 1 Axes>"
      ]
     },
     "metadata": {
      "needs_background": "light"
     },
     "output_type": "display_data"
    }
   ],
   "source": [
    "count_plot(train_df, 'funder')"
   ]
  },
  {
   "cell_type": "markdown",
   "metadata": {},
   "source": [
    "Most waterpoints were funded by the government, followed by danida and hesawa."
   ]
  },
  {
   "cell_type": "markdown",
   "metadata": {},
   "source": [
    "#### Installer"
   ]
  },
  {
   "cell_type": "code",
   "execution_count": 69,
   "metadata": {
    "scrolled": true
   },
   "outputs": [
    {
     "data": {
      "image/png": "[encoded data removed]",
      "text/plain": [
       "<Figure size 864x432 with 1 Axes>"
      ]
     },
     "metadata": {
      "needs_background": "light"
     },
     "output_type": "display_data"
    }
   ],
   "source": [
    "count_plot(train_df, 'installer')"
   ]
  },
  {
   "cell_type": "markdown",
   "metadata": {},
   "source": [
    "DWE is the most common installer."
   ]
  },
  {
   "cell_type": "markdown",
   "metadata": {},
   "source": [
    "### 2. Univariate Analysis - Numerical Columns"
   ]
  },
  {
   "cell_type": "code",
   "execution_count": 70,
   "metadata": {},
   "outputs": [],
   "source": [
    "#function to plot histogram for numerical columns\n",
    "def hist_plot(data,column):\n",
    "    fig,ax=plt.subplots(figsize=(12,8))\n",
    "    plt.hist(data=data, x=column)\n",
    "    plt.title(f\"Distribution of {column}\")\n",
    "    mn=round(data[column].mean(),2)\n",
    "    ax.axvline(x=mn,label=(f'mean:{mn}'),color='r')\n",
    "    plt.xlabel(f'{column}')\n",
    "    plt.ylabel('frequency')\n",
    "    plt.legend()\n",
    "    plt.show()"
   ]
  },
  {
   "cell_type": "markdown",
   "metadata": {},
   "source": [
    "#### population"
   ]
  },
  {
   "cell_type": "code",
   "execution_count": 71,
   "metadata": {
    "scrolled": false
   },
   "outputs": [
    {
     "data": {
      "image/png": "[encoded data removed]",
      "text/plain": [
       "<Figure size 864x576 with 1 Axes>"
      ]
     },
     "metadata": {
      "needs_background": "light"
     },
     "output_type": "display_data"
    }
   ],
   "source": [
    "hist_plot(train_df, 'population')"
   ]
  },
  {
   "cell_type": "markdown",
   "metadata": {},
   "source": [
    "Distribution of population around areas with water wells is positively skewed."
   ]
  },
  {
   "cell_type": "markdown",
   "metadata": {},
   "source": [
    "#### amount_tsh"
   ]
  },
  {
   "cell_type": "code",
   "execution_count": 72,
   "metadata": {
    "scrolled": false
   },
   "outputs": [
    {
     "data": {
      "image/png": "[encoded data removed]",
      "text/plain": [
       "<Figure size 864x576 with 1 Axes>"
      ]
     },
     "metadata": {
      "needs_background": "light"
     },
     "output_type": "display_data"
    }
   ],
   "source": [
    "hist_plot(train_df, 'amount_tsh')"
   ]
  },
  {
   "cell_type": "markdown",
   "metadata": {},
   "source": [
    "The amount of water available to waterpoint is positively skewed."
   ]
  },
  {
   "cell_type": "markdown",
   "metadata": {},
   "source": [
    "### 2. Bivariate Analysis"
   ]
  },
  {
   "cell_type": "markdown",
   "metadata": {},
   "source": [
    "#### a) Does Water Quality Affect the Functionality of  Waterpoint Pumps?"
   ]
  },
  {
   "cell_type": "code",
   "execution_count": 73,
   "metadata": {
    "scrolled": false
   },
   "outputs": [
    {
     "data": {
      "image/png": "[encoded data removed]",
      "text/plain": [
       "<Figure size 864x432 with 1 Axes>"
      ]
     },
     "metadata": {
      "needs_background": "light"
     },
     "output_type": "display_data"
    }
   ],
   "source": [
    "count_plot(data=train_df,column='quality_group',hue='status_group')"
   ]
  },
  {
   "cell_type": "markdown",
   "metadata": {},
   "source": [
    "The quality of the water in most functional waterpoints is good."
   ]
  },
  {
   "cell_type": "markdown",
   "metadata": {},
   "source": [
    "#### b) Does water quantity have any effect on the functionality of a waterpoint pump?"
   ]
  },
  {
   "cell_type": "code",
   "execution_count": 74,
   "metadata": {},
   "outputs": [
    {
     "data": {
      "image/png": "[encoded data removed]",
      "text/plain": [
       "<Figure size 864x432 with 1 Axes>"
      ]
     },
     "metadata": {
      "needs_background": "light"
     },
     "output_type": "display_data"
    }
   ],
   "source": [
    "count_plot(data=train_df,column='quantity_group',hue='status_group')"
   ]
  },
  {
   "cell_type": "markdown",
   "metadata": {},
   "source": [
    "Waterpoints with enough water are mostly functional while dry waterpoints, as expected, are barely functional."
   ]
  },
  {
   "cell_type": "markdown",
   "metadata": {},
   "source": [
    "#### c) Does the basin have an effect on functionality of pumps?"
   ]
  },
  {
   "cell_type": "code",
   "execution_count": 75,
   "metadata": {
    "scrolled": true
   },
   "outputs": [
    {
     "data": {
      "image/png": "[encoded data removed]",
      "text/plain": [
       "<Figure size 864x432 with 1 Axes>"
      ]
     },
     "metadata": {
      "needs_background": "light"
     },
     "output_type": "display_data"
    }
   ],
   "source": [
    "count_plot(train_df,'basin','status_group')"
   ]
  },
  {
   "cell_type": "markdown",
   "metadata": {},
   "source": [
    "Lake Victoria, Pangani, ad Rufiji are the basins with the most functional waterpoints.\n",
    "\n",
    "A relatively high number of pumps in Ruvuma nad Lake Rukwa are non fucntional. "
   ]
  },
  {
   "cell_type": "markdown",
   "metadata": {},
   "source": [
    "#### d). Do Different Watersources Affect Waterpoint Pump Functionality?"
   ]
  },
  {
   "cell_type": "code",
   "execution_count": 76,
   "metadata": {},
   "outputs": [
    {
     "data": {
      "image/png": "[encoded data removed]",
      "text/plain": [
       "<Figure size 864x432 with 1 Axes>"
      ]
     },
     "metadata": {
      "needs_background": "light"
     },
     "output_type": "display_data"
    }
   ],
   "source": [
    "count_plot(train_df,'source_type','status_group')"
   ]
  },
  {
   "cell_type": "markdown",
   "metadata": {},
   "source": [
    "Waterpoints that draw water from springs have the highest number of functional pumps, while those that draw water from shallow wells recorded the highest number of non-functional wells."
   ]
  },
  {
   "cell_type": "markdown",
   "metadata": {},
   "source": [
    "### e). Does the Construction Year affect Well Status?"
   ]
  },
  {
   "cell_type": "code",
   "execution_count": 77,
   "metadata": {
    "scrolled": true
   },
   "outputs": [
    {
     "data": {
      "image/png": "[encoded data removed]",
      "text/plain": [
       "<Figure size 864x576 with 1 Axes>"
      ]
     },
     "metadata": {
      "needs_background": "light"
     },
     "output_type": "display_data"
    }
   ],
   "source": [
    "import matplotlib.pyplot as plt\n",
    "\n",
    "plt.figure(figsize=(12,8))\n",
    "plt.bar(train_df['construction_year'].value_counts().index, train_df['construction_year'].value_counts().values)\n",
    "plt.xlabel('Construction Year')\n",
    "plt.ylabel('Counts')\n",
    "plt.title('Construction Year Counts')\n",
    "plt.show()\n"
   ]
  },
  {
   "cell_type": "markdown",
   "metadata": {},
   "source": [
    "Most of the wells were constructed between 2000 and 2010."
   ]
  },
  {
   "cell_type": "code",
   "execution_count": 78,
   "metadata": {
    "scrolled": true
   },
   "outputs": [
    {
     "data": {
      "image/png": "[encoded data removed]",
      "text/plain": [
       "<Figure size 864x576 with 1 Axes>"
      ]
     },
     "metadata": {
      "needs_background": "light"
     },
     "output_type": "display_data"
    }
   ],
   "source": [
    "construction_year_group = train_df.groupby(['construction_year', 'status_group']).size().reset_index(name='counts')\n",
    "plt.figure(figsize=(12,8))\n",
    "sns.barplot(x='construction_year', y='counts', hue='status_group', data=construction_year_group, dodge=False)\n",
    "plt.xlabel('Construction Year')\n",
    "plt.ylabel('Counts')\n",
    "plt.title('Construction Year vs Status_group')\n",
    "plt.show()\n"
   ]
  },
  {
   "cell_type": "markdown",
   "metadata": {},
   "source": [
    "It's interesting to note that most of the wells contructed between the 60s and 80s are mostly non_functional. This should be investigated further."
   ]
  },
  {
   "cell_type": "markdown",
   "metadata": {},
   "source": [
    "# 5. Modeling"
   ]
  },
  {
   "cell_type": "code",
   "execution_count": 79,
   "metadata": {
    "scrolled": true
   },
   "outputs": [],
   "source": [
    "import pandas as pd\n",
    "import numpy as np\n",
    "from sklearn.model_selection import train_test_split\n",
    "from sklearn.svm import LinearSVC\n",
    "from sklearn.model_selection import GridSearchCV, RandomizedSearchCV\n",
    "from sklearn.pipeline import Pipeline\n",
    "from sklearn.preprocessing import StandardScaler\n",
    "from sklearn.ensemble import RandomForestClassifier\n",
    "from sklearn.ensemble import GradientBoostingClassifier\n",
    "import ydata_profiling\n",
    "from boruta import BorutaPy\n",
    "from datetime import datetime"
   ]
  },
  {
   "cell_type": "code",
   "execution_count": 80,
   "metadata": {},
   "outputs": [
    {
     "name": "stdout",
     "output_type": "stream",
     "text": [
      "<class 'pandas.core.frame.DataFrame'>\n",
      "Int64Index: 59400 entries, 0 to 59399\n",
      "Data columns (total 19 columns):\n",
      " #   Column                 Non-Null Count  Dtype  \n",
      "---  ------                 --------------  -----  \n",
      " 0   amount_tsh             59400 non-null  float64\n",
      " 1   funder                 59400 non-null  object \n",
      " 2   installer              59400 non-null  object \n",
      " 3   basin                  59400 non-null  object \n",
      " 4   population             59400 non-null  int64  \n",
      " 5   public_meeting         59400 non-null  object \n",
      " 6   scheme_management      59400 non-null  object \n",
      " 7   permit                 59400 non-null  object \n",
      " 8   construction_year      59400 non-null  object \n",
      " 9   extraction_type_class  59400 non-null  object \n",
      " 10  management_group       59400 non-null  object \n",
      " 11  payment_type           59400 non-null  object \n",
      " 12  quality_group          59400 non-null  object \n",
      " 13  quantity_group         59400 non-null  object \n",
      " 14  source_type            59400 non-null  object \n",
      " 15  source_class           59400 non-null  object \n",
      " 16  waterpoint_type_group  59400 non-null  object \n",
      " 17  status_group           59400 non-null  object \n",
      " 18  days_ago               59400 non-null  int64  \n",
      "dtypes: float64(1), int64(2), object(16)\n",
      "memory usage: 11.6+ MB\n"
     ]
    }
   ],
   "source": [
    "train_df.info()"
   ]
  },
  {
   "cell_type": "code",
   "execution_count": 81,
   "metadata": {},
   "outputs": [],
   "source": [
    "#convert status group label into numerical data\n",
    "val_status_group={'functional':2, 'functional needs repair':1,\n",
    "                   'non functional':0}\n",
    "train_df['status_group_vals']=train_df.status_group.replace(val_status_group)"
   ]
  },
  {
   "cell_type": "code",
   "execution_count": 82,
   "metadata": {},
   "outputs": [],
   "source": [
    "train_df = train_df.drop('status_group', axis=1)"
   ]
  },
  {
   "cell_type": "code",
   "execution_count": 86,
   "metadata": {},
   "outputs": [],
   "source": [
    "#separate column by their type\n",
    "cats = ['funder', 'installer', 'basin', 'public_meeting', 'scheme_management', 'permit', 'construction_year', 'extraction_type_class',\n",
    "        'management_group', 'payment_type', 'quality_group', 'quantity_group', 'source_type', 'source_class','waterpoint_type_group']\n",
    "num_cols = [col for col in train_df.columns if train_df[col].dtype != 'object' and col not in cats]\n"
   ]
  },
  {
   "cell_type": "code",
   "execution_count": 87,
   "metadata": {},
   "outputs": [],
   "source": [
    "# One-hot encode the categorical variables\n",
    "columns = train_df.columns\n",
    "new_cats = [cat for cat in cats if cat in columns]\n",
    "train_df = pd.get_dummies(train_df, columns = new_cats)"
   ]
  },
  {
   "cell_type": "code",
   "execution_count": 88,
   "metadata": {},
   "outputs": [],
   "source": [
    "# Shuffle the data\n",
    "train_df = train_df.sample(frac=1).reset_index(drop=True)"
   ]
  },
  {
   "cell_type": "code",
   "execution_count": 89,
   "metadata": {},
   "outputs": [],
   "source": [
    "#get dummy for test data\n",
    "test_df = pd.get_dummies(test_df, columns = new_cats)"
   ]
  },
  {
   "cell_type": "code",
   "execution_count": 90,
   "metadata": {},
   "outputs": [
    {
     "name": "stdout",
     "output_type": "stream",
     "text": [
      "Shape of training data (59400, 90)\n",
      "Shape of testing data (14850, 89)\n"
     ]
    }
   ],
   "source": [
    "print('Shape of training data',train_df.shape)\n",
    "print('Shape of testing data',test_df.shape)"
   ]
  },
  {
   "cell_type": "code",
   "execution_count": 91,
   "metadata": {},
   "outputs": [],
   "source": [
    "#profiling report of training data\n",
    "#ydata_profiling.ProfileReport(train)"
   ]
  },
  {
   "cell_type": "markdown",
   "metadata": {},
   "source": [
    "From the profilig report(too big to save it) I noticed waterpoint_type_group_hand_pump has a high correlation with extraction_type_class_handpump. I will drop one of the columns. I will also drop source_type_other."
   ]
  },
  {
   "cell_type": "code",
   "execution_count": 92,
   "metadata": {},
   "outputs": [],
   "source": [
    "#drop waterpoint_type_group_hand pump on both test and train.\n",
    "train_df=train_df.drop(['waterpoint_type_group_hand pump'],axis=1)\n",
    "test_df=test_df.drop(['waterpoint_type_group_hand pump'],axis=1)"
   ]
  },
  {
   "cell_type": "code",
   "execution_count": 93,
   "metadata": {},
   "outputs": [
    {
     "name": "stdout",
     "output_type": "stream",
     "text": [
      "<class 'pandas.core.frame.DataFrame'>\n",
      "RangeIndex: 59400 entries, 0 to 59399\n",
      "Data columns (total 88 columns):\n",
      " #   Column                                    Non-Null Count  Dtype  \n",
      "---  ------                                    --------------  -----  \n",
      " 0   amount_tsh                                59400 non-null  float64\n",
      " 1   population                                59400 non-null  int64  \n",
      " 2   days_ago                                  59400 non-null  int64  \n",
      " 3   status_group_vals                         59400 non-null  int64  \n",
      " 4   funder_danida                             59400 non-null  uint8  \n",
      " 5   funder_government                         59400 non-null  uint8  \n",
      " 6   funder_hesawa                             59400 non-null  uint8  \n",
      " 7   funder_other                              59400 non-null  uint8  \n",
      " 8   funder_rwssp                              59400 non-null  uint8  \n",
      " 9   funder_world_bank                         59400 non-null  uint8  \n",
      " 10  installer_commu                           59400 non-null  uint8  \n",
      " 11  installer_danida                          59400 non-null  uint8  \n",
      " 12  installer_dwe                             59400 non-null  uint8  \n",
      " 13  installer_government                      59400 non-null  uint8  \n",
      " 14  installer_other                           59400 non-null  uint8  \n",
      " 15  installer_rwe                             59400 non-null  uint8  \n",
      " 16  basin_Internal                            59400 non-null  uint8  \n",
      " 17  basin_Lake Nyasa                          59400 non-null  uint8  \n",
      " 18  basin_Lake Rukwa                          59400 non-null  uint8  \n",
      " 19  basin_Lake Tanganyika                     59400 non-null  uint8  \n",
      " 20  basin_Lake Victoria                       59400 non-null  uint8  \n",
      " 21  basin_Pangani                             59400 non-null  uint8  \n",
      " 22  basin_Rufiji                              59400 non-null  uint8  \n",
      " 23  basin_Ruvuma / Southern Coast             59400 non-null  uint8  \n",
      " 24  basin_Wami / Ruvu                         59400 non-null  uint8  \n",
      " 25  public_meeting_False                      59400 non-null  uint8  \n",
      " 26  public_meeting_True                       59400 non-null  uint8  \n",
      " 27  public_meeting_Unknown                    59400 non-null  uint8  \n",
      " 28  scheme_management_other                   59400 non-null  uint8  \n",
      " 29  scheme_management_vwc                     59400 non-null  uint8  \n",
      " 30  scheme_management_water_authority         59400 non-null  uint8  \n",
      " 31  scheme_management_water_board             59400 non-null  uint8  \n",
      " 32  scheme_management_wua                     59400 non-null  uint8  \n",
      " 33  scheme_management_wug                     59400 non-null  uint8  \n",
      " 34  permit_False                              59400 non-null  uint8  \n",
      " 35  permit_True                               59400 non-null  uint8  \n",
      " 36  permit_Unknown                            59400 non-null  uint8  \n",
      " 37  construction_year_00s                     59400 non-null  uint8  \n",
      " 38  construction_year_10s                     59400 non-null  uint8  \n",
      " 39  construction_year_60s                     59400 non-null  uint8  \n",
      " 40  construction_year_70s                     59400 non-null  uint8  \n",
      " 41  construction_year_80s                     59400 non-null  uint8  \n",
      " 42  construction_year_90s                     59400 non-null  uint8  \n",
      " 43  construction_year_unknown                 59400 non-null  uint8  \n",
      " 44  extraction_type_class_gravity             59400 non-null  uint8  \n",
      " 45  extraction_type_class_handpump            59400 non-null  uint8  \n",
      " 46  extraction_type_class_motorpump           59400 non-null  uint8  \n",
      " 47  extraction_type_class_other               59400 non-null  uint8  \n",
      " 48  extraction_type_class_rope pump           59400 non-null  uint8  \n",
      " 49  extraction_type_class_submersible         59400 non-null  uint8  \n",
      " 50  extraction_type_class_wind-powered        59400 non-null  uint8  \n",
      " 51  management_group_commercial               59400 non-null  uint8  \n",
      " 52  management_group_other                    59400 non-null  uint8  \n",
      " 53  management_group_parastatal               59400 non-null  uint8  \n",
      " 54  management_group_unknown                  59400 non-null  uint8  \n",
      " 55  management_group_user-group               59400 non-null  uint8  \n",
      " 56  payment_type_annually                     59400 non-null  uint8  \n",
      " 57  payment_type_monthly                      59400 non-null  uint8  \n",
      " 58  payment_type_never pay                    59400 non-null  uint8  \n",
      " 59  payment_type_on failure                   59400 non-null  uint8  \n",
      " 60  payment_type_other                        59400 non-null  uint8  \n",
      " 61  payment_type_per bucket                   59400 non-null  uint8  \n",
      " 62  payment_type_unknown                      59400 non-null  uint8  \n",
      " 63  quality_group_colored                     59400 non-null  uint8  \n",
      " 64  quality_group_fluoride                    59400 non-null  uint8  \n",
      " 65  quality_group_good                        59400 non-null  uint8  \n",
      " 66  quality_group_milky                       59400 non-null  uint8  \n",
      " 67  quality_group_salty                       59400 non-null  uint8  \n",
      " 68  quality_group_unknown                     59400 non-null  uint8  \n",
      " 69  quantity_group_dry                        59400 non-null  uint8  \n",
      " 70  quantity_group_enough                     59400 non-null  uint8  \n",
      " 71  quantity_group_insufficient               59400 non-null  uint8  \n",
      " 72  quantity_group_seasonal                   59400 non-null  uint8  \n",
      " 73  quantity_group_unknown                    59400 non-null  uint8  \n",
      " 74  source_type_borehole                      59400 non-null  uint8  \n",
      " 75  source_type_dam                           59400 non-null  uint8  \n",
      " 76  source_type_rainwater harvesting          59400 non-null  uint8  \n",
      " 77  source_type_river/lake                    59400 non-null  uint8  \n",
      " 78  source_type_shallow well                  59400 non-null  uint8  \n",
      " 79  source_type_spring                        59400 non-null  uint8  \n",
      " 80  source_class_groundwater                  59400 non-null  uint8  \n",
      " 81  source_class_surface                      59400 non-null  uint8  \n",
      " 82  source_class_unknown                      59400 non-null  uint8  \n",
      " 83  waterpoint_type_group_cattle trough       59400 non-null  uint8  \n",
      " 84  waterpoint_type_group_communal standpipe  59400 non-null  uint8  \n",
      " 85  waterpoint_type_group_dam                 59400 non-null  uint8  \n",
      " 86  waterpoint_type_group_improved spring     59400 non-null  uint8  \n",
      " 87  waterpoint_type_group_other               59400 non-null  uint8  \n",
      "dtypes: float64(1), int64(3), uint8(84)\n",
      "memory usage: 6.6 MB\n"
     ]
    }
   ],
   "source": [
    "# drop source_type_other on both test and  train\n",
    "\n",
    "train_df=train_df.drop(['source_type_other'],axis=1)\n",
    "test_df=test_df.drop(['source_type_other'],axis=1)\n",
    "\n",
    "train_df.info()"
   ]
  },
  {
   "cell_type": "code",
   "execution_count": 94,
   "metadata": {},
   "outputs": [],
   "source": [
    "def timer(start_time=None):\n",
    "    if not start_time:\n",
    "        start_time = datetime.now()\n",
    "        return start_time\n",
    "    elif start_time:\n",
    "        thour, temp_sec = divmod((datetime.now() - start_time).total_seconds(), 3600)\n",
    "        tmin, tsec = divmod(temp_sec, 60)\n",
    "        print('\\n Time taken: %i hours %i minutes and %s seconds.' % (thour, tmin, round(tsec, 2)))"
   ]
  },
  {
   "cell_type": "code",
   "execution_count": 95,
   "metadata": {},
   "outputs": [],
   "source": [
    "# Split train set into train and validation. Remove Target.\n",
    "target = train_df.status_group_vals\n",
    "features = train_df.drop('status_group_vals', axis=1)\n",
    "\n",
    "features1=features.copy()"
   ]
  },
  {
   "cell_type": "markdown",
   "metadata": {},
   "source": [
    "### Random Forest"
   ]
  },
  {
   "cell_type": "code",
   "execution_count": null,
   "metadata": {
    "scrolled": true
   },
   "outputs": [
    {
     "name": "stdout",
     "output_type": "stream",
     "text": [
      "Iteration: \t1 / 100\n",
      "Confirmed: \t0\n",
      "Tentative: \t87\n",
      "Rejected: \t0\n",
      "Iteration: \t2 / 100\n",
      "Confirmed: \t0\n",
      "Tentative: \t87\n",
      "Rejected: \t0\n",
      "Iteration: \t3 / 100\n",
      "Confirmed: \t0\n",
      "Tentative: \t87\n",
      "Rejected: \t0\n",
      "Iteration: \t4 / 100\n",
      "Confirmed: \t0\n",
      "Tentative: \t87\n",
      "Rejected: \t0\n",
      "Iteration: \t5 / 100\n",
      "Confirmed: \t0\n",
      "Tentative: \t87\n",
      "Rejected: \t0\n",
      "Iteration: \t6 / 100\n",
      "Confirmed: \t0\n",
      "Tentative: \t87\n",
      "Rejected: \t0\n",
      "Iteration: \t7 / 100\n",
      "Confirmed: \t0\n",
      "Tentative: \t87\n",
      "Rejected: \t0\n",
      "Iteration: \t8 / 100\n",
      "Confirmed: \t70\n",
      "Tentative: \t7\n",
      "Rejected: \t10\n",
      "Iteration: \t9 / 100\n",
      "Confirmed: \t70\n",
      "Tentative: \t7\n",
      "Rejected: \t10\n",
      "Iteration: \t10 / 100\n",
      "Confirmed: \t70\n",
      "Tentative: \t7\n",
      "Rejected: \t10\n",
      "Iteration: \t11 / 100\n",
      "Confirmed: \t70\n",
      "Tentative: \t7\n",
      "Rejected: \t10\n",
      "Iteration: \t12 / 100\n",
      "Confirmed: \t70\n",
      "Tentative: \t7\n",
      "Rejected: \t10\n",
      "Iteration: \t13 / 100\n",
      "Confirmed: \t70\n",
      "Tentative: \t7\n",
      "Rejected: \t10\n",
      "Iteration: \t14 / 100\n",
      "Confirmed: \t70\n",
      "Tentative: \t5\n",
      "Rejected: \t12\n",
      "Iteration: \t15 / 100\n",
      "Confirmed: \t70\n",
      "Tentative: \t5\n",
      "Rejected: \t12\n",
      "Iteration: \t16 / 100\n",
      "Confirmed: \t70\n",
      "Tentative: \t5\n",
      "Rejected: \t12\n",
      "Iteration: \t17 / 100\n",
      "Confirmed: \t70\n",
      "Tentative: \t5\n",
      "Rejected: \t12\n",
      "Iteration: \t18 / 100\n",
      "Confirmed: \t70\n",
      "Tentative: \t5\n",
      "Rejected: \t12\n",
      "Iteration: \t19 / 100\n",
      "Confirmed: \t70\n",
      "Tentative: \t5\n",
      "Rejected: \t12\n",
      "Iteration: \t20 / 100\n",
      "Confirmed: \t70\n",
      "Tentative: \t5\n",
      "Rejected: \t12\n",
      "Iteration: \t21 / 100\n",
      "Confirmed: \t70\n",
      "Tentative: \t5\n",
      "Rejected: \t12\n",
      "Iteration: \t22 / 100\n",
      "Confirmed: \t71\n",
      "Tentative: \t3\n",
      "Rejected: \t13\n",
      "Iteration: \t23 / 100\n",
      "Confirmed: \t71\n",
      "Tentative: \t3\n",
      "Rejected: \t13\n",
      "Iteration: \t24 / 100\n",
      "Confirmed: \t71\n",
      "Tentative: \t3\n",
      "Rejected: \t13\n",
      "Iteration: \t25 / 100\n",
      "Confirmed: \t71\n",
      "Tentative: \t3\n",
      "Rejected: \t13\n",
      "Iteration: \t26 / 100\n",
      "Confirmed: \t71\n",
      "Tentative: \t3\n",
      "Rejected: \t13\n",
      "Iteration: \t27 / 100\n",
      "Confirmed: \t71\n",
      "Tentative: \t3\n",
      "Rejected: \t13\n",
      "Iteration: \t28 / 100\n",
      "Confirmed: \t71\n",
      "Tentative: \t3\n",
      "Rejected: \t13\n",
      "Iteration: \t29 / 100\n",
      "Confirmed: \t71\n",
      "Tentative: \t3\n",
      "Rejected: \t13\n",
      "Iteration: \t30 / 100\n",
      "Confirmed: \t71\n",
      "Tentative: \t3\n",
      "Rejected: \t13\n",
      "Iteration: \t31 / 100\n",
      "Confirmed: \t71\n",
      "Tentative: \t3\n",
      "Rejected: \t13\n",
      "Iteration: \t32 / 100\n",
      "Confirmed: \t71\n",
      "Tentative: \t3\n",
      "Rejected: \t13\n",
      "Iteration: \t33 / 100\n",
      "Confirmed: \t71\n",
      "Tentative: \t3\n",
      "Rejected: \t13\n",
      "Iteration: \t34 / 100\n",
      "Confirmed: \t71\n",
      "Tentative: \t3\n",
      "Rejected: \t13\n",
      "Iteration: \t35 / 100\n",
      "Confirmed: \t71\n",
      "Tentative: \t3\n",
      "Rejected: \t13\n",
      "Iteration: \t36 / 100\n",
      "Confirmed: \t71\n",
      "Tentative: \t3\n",
      "Rejected: \t13\n",
      "Iteration: \t37 / 100\n",
      "Confirmed: \t71\n",
      "Tentative: \t3\n",
      "Rejected: \t13\n",
      "Iteration: \t38 / 100\n",
      "Confirmed: \t71\n",
      "Tentative: \t3\n",
      "Rejected: \t13\n",
      "Iteration: \t39 / 100\n",
      "Confirmed: \t71\n",
      "Tentative: \t3\n",
      "Rejected: \t13\n",
      "Iteration: \t40 / 100\n",
      "Confirmed: \t71\n",
      "Tentative: \t3\n",
      "Rejected: \t13\n",
      "Iteration: \t41 / 100\n",
      "Confirmed: \t71\n",
      "Tentative: \t3\n",
      "Rejected: \t13\n",
      "Iteration: \t42 / 100\n",
      "Confirmed: \t71\n",
      "Tentative: \t3\n",
      "Rejected: \t13\n",
      "Iteration: \t43 / 100\n",
      "Confirmed: \t71\n",
      "Tentative: \t3\n",
      "Rejected: \t13\n",
      "Iteration: \t44 / 100\n",
      "Confirmed: \t71\n",
      "Tentative: \t3\n",
      "Rejected: \t13\n",
      "Iteration: \t45 / 100\n",
      "Confirmed: \t71\n",
      "Tentative: \t3\n",
      "Rejected: \t13\n",
      "Iteration: \t46 / 100\n",
      "Confirmed: \t71\n",
      "Tentative: \t3\n",
      "Rejected: \t13\n",
      "Iteration: \t47 / 100\n",
      "Confirmed: \t71\n",
      "Tentative: \t3\n",
      "Rejected: \t13\n",
      "Iteration: \t48 / 100\n",
      "Confirmed: \t71\n",
      "Tentative: \t3\n",
      "Rejected: \t13\n",
      "Iteration: \t49 / 100\n",
      "Confirmed: \t71\n",
      "Tentative: \t3\n",
      "Rejected: \t13\n",
      "Iteration: \t50 / 100\n",
      "Confirmed: \t71\n",
      "Tentative: \t3\n",
      "Rejected: \t13\n",
      "Iteration: \t51 / 100\n",
      "Confirmed: \t71\n",
      "Tentative: \t3\n",
      "Rejected: \t13\n",
      "Iteration: \t52 / 100\n",
      "Confirmed: \t71\n",
      "Tentative: \t3\n",
      "Rejected: \t13\n",
      "Iteration: \t53 / 100\n",
      "Confirmed: \t71\n",
      "Tentative: \t3\n",
      "Rejected: \t13\n",
      "Iteration: \t54 / 100\n",
      "Confirmed: \t71\n",
      "Tentative: \t3\n",
      "Rejected: \t13\n",
      "Iteration: \t55 / 100\n",
      "Confirmed: \t71\n",
      "Tentative: \t3\n",
      "Rejected: \t13\n",
      "Iteration: \t56 / 100\n",
      "Confirmed: \t71\n",
      "Tentative: \t3\n",
      "Rejected: \t13\n",
      "Iteration: \t57 / 100\n",
      "Confirmed: \t71\n",
      "Tentative: \t3\n",
      "Rejected: \t13\n",
      "Iteration: \t58 / 100\n",
      "Confirmed: \t71\n",
      "Tentative: \t3\n",
      "Rejected: \t13\n",
      "Iteration: \t59 / 100\n",
      "Confirmed: \t71\n",
      "Tentative: \t3\n",
      "Rejected: \t13\n",
      "Iteration: \t60 / 100\n",
      "Confirmed: \t71\n",
      "Tentative: \t3\n",
      "Rejected: \t13\n",
      "Iteration: \t61 / 100\n",
      "Confirmed: \t71\n",
      "Tentative: \t3\n",
      "Rejected: \t13\n",
      "Iteration: \t62 / 100\n",
      "Confirmed: \t71\n",
      "Tentative: \t3\n",
      "Rejected: \t13\n",
      "Iteration: \t63 / 100\n",
      "Confirmed: \t71\n",
      "Tentative: \t3\n",
      "Rejected: \t13\n",
      "Iteration: \t64 / 100\n",
      "Confirmed: \t71\n",
      "Tentative: \t3\n",
      "Rejected: \t13\n",
      "Iteration: \t65 / 100\n",
      "Confirmed: \t71\n",
      "Tentative: \t2\n",
      "Rejected: \t14\n",
      "Iteration: \t66 / 100\n",
      "Confirmed: \t71\n",
      "Tentative: \t2\n",
      "Rejected: \t14\n",
      "Iteration: \t67 / 100\n",
      "Confirmed: \t71\n",
      "Tentative: \t2\n",
      "Rejected: \t14\n",
      "Iteration: \t68 / 100\n",
      "Confirmed: \t71\n",
      "Tentative: \t2\n",
      "Rejected: \t14\n",
      "Iteration: \t69 / 100\n",
      "Confirmed: \t71\n",
      "Tentative: \t2\n",
      "Rejected: \t14\n",
      "Iteration: \t70 / 100\n",
      "Confirmed: \t71\n",
      "Tentative: \t2\n",
      "Rejected: \t14\n",
      "Iteration: \t71 / 100\n",
      "Confirmed: \t71\n",
      "Tentative: \t2\n",
      "Rejected: \t14\n",
      "Iteration: \t72 / 100\n",
      "Confirmed: \t71\n",
      "Tentative: \t2\n",
      "Rejected: \t14\n",
      "Iteration: \t73 / 100\n",
      "Confirmed: \t71\n",
      "Tentative: \t2\n",
      "Rejected: \t14\n",
      "Iteration: \t74 / 100\n",
      "Confirmed: \t71\n",
      "Tentative: \t2\n",
      "Rejected: \t14\n",
      "Iteration: \t75 / 100\n",
      "Confirmed: \t72\n",
      "Tentative: \t1\n",
      "Rejected: \t14\n",
      "Iteration: \t76 / 100\n",
      "Confirmed: \t72\n",
      "Tentative: \t1\n",
      "Rejected: \t14\n",
      "Iteration: \t77 / 100\n",
      "Confirmed: \t72\n",
      "Tentative: \t1\n",
      "Rejected: \t14\n",
      "Iteration: \t78 / 100\n",
      "Confirmed: \t72\n",
      "Tentative: \t1\n",
      "Rejected: \t14\n",
      "Iteration: \t79 / 100\n",
      "Confirmed: \t72\n",
      "Tentative: \t1\n",
      "Rejected: \t14\n",
      "Iteration: \t80 / 100\n",
      "Confirmed: \t72\n",
      "Tentative: \t1\n",
      "Rejected: \t14\n",
      "Iteration: \t81 / 100\n",
      "Confirmed: \t72\n",
      "Tentative: \t1\n",
      "Rejected: \t14\n",
      "Iteration: \t82 / 100\n",
      "Confirmed: \t72\n",
      "Tentative: \t1\n",
      "Rejected: \t14\n",
      "Iteration: \t83 / 100\n",
      "Confirmed: \t72\n",
      "Tentative: \t1\n",
      "Rejected: \t14\n",
      "Iteration: \t84 / 100\n",
      "Confirmed: \t72\n",
      "Tentative: \t1\n",
      "Rejected: \t14\n",
      "Iteration: \t85 / 100\n",
      "Confirmed: \t72\n",
      "Tentative: \t1\n",
      "Rejected: \t14\n",
      "Iteration: \t86 / 100\n",
      "Confirmed: \t72\n",
      "Tentative: \t1\n",
      "Rejected: \t14\n",
      "Iteration: \t87 / 100\n",
      "Confirmed: \t72\n",
      "Tentative: \t1\n",
      "Rejected: \t14\n",
      "Iteration: \t88 / 100\n",
      "Confirmed: \t72\n",
      "Tentative: \t1\n",
      "Rejected: \t14\n",
      "Iteration: \t89 / 100\n",
      "Confirmed: \t72\n",
      "Tentative: \t1\n",
      "Rejected: \t14\n",
      "Iteration: \t90 / 100\n",
      "Confirmed: \t72\n",
      "Tentative: \t1\n",
      "Rejected: \t14\n",
      "Iteration: \t91 / 100\n",
      "Confirmed: \t72\n",
      "Tentative: \t1\n",
      "Rejected: \t14\n",
      "Iteration: \t92 / 100\n",
      "Confirmed: \t72\n",
      "Tentative: \t1\n",
      "Rejected: \t14\n",
      "Iteration: \t93 / 100\n",
      "Confirmed: \t72\n",
      "Tentative: \t1\n",
      "Rejected: \t14\n",
      "Iteration: \t94 / 100\n",
      "Confirmed: \t72\n",
      "Tentative: \t1\n",
      "Rejected: \t14\n",
      "Iteration: \t95 / 100\n",
      "Confirmed: \t72\n",
      "Tentative: \t1\n",
      "Rejected: \t14\n",
      "Iteration: \t96 / 100\n",
      "Confirmed: \t72\n",
      "Tentative: \t1\n",
      "Rejected: \t14\n",
      "Iteration: \t97 / 100\n",
      "Confirmed: \t72\n",
      "Tentative: \t1\n",
      "Rejected: \t14\n"
     ]
    }
   ],
   "source": [
    "# Define the Random Forest Classifier\n",
    "rf = RandomForestClassifier(criterion='gini',\n",
    "                            n_estimators=500,\n",
    "                            max_features='sqrt',\n",
    "                            oob_score=True,\n",
    "                            random_state=1,\n",
    "                            n_jobs=-1,\n",
    "                            max_depth=6)\n",
    "\n",
    "# Fit the data to the BorutaPy selector\n",
    "X_boruta = features.values\n",
    "y_boruta = target.values\n",
    "boruta_selector = BorutaPy(rf, n_estimators='auto', verbose=2)\n",
    "start_time = timer(None)\n",
    "boruta_selector.fit(X_boruta,y_boruta)\n",
    "timer(start_time)"
   ]
  },
  {
   "cell_type": "code",
   "execution_count": null,
   "metadata": {},
   "outputs": [],
   "source": [
    "# number of selected features\n",
    "print ('\\n Number of selected features:')\n",
    "print (boruta_selector.n_features_)"
   ]
  },
  {
   "cell_type": "code",
   "execution_count": null,
   "metadata": {},
   "outputs": [],
   "source": [
    "# Create a dataframe from the feature names\n",
    "features1 = pd.DataFrame(features.columns.tolist())\n",
    "\n",
    "# Add the rank of each feature as determined by Boruta\n",
    "features1['rank'] = boruta_selector.ranking_\n",
    "\n",
    "# Sort the features based on their rank, with the top-ranked features first\n",
    "features1 = features1.sort_values('rank', ascending=True).reset_index(drop=True)\n",
    "\n",
    "# Print the top n_features as determined by Boruta\n",
    "print('\\nTop %d features:' % boruta_selector.n_features_)\n",
    "print(features1.head(boruta_selector.n_features_))\n",
    "\n",
    "# From Boruta, we retained the 70 columns. The remaining columns whose rank is greater than 1 are not required.\n"
   ]
  },
  {
   "cell_type": "code",
   "execution_count": null,
   "metadata": {},
   "outputs": [],
   "source": [
    "# Create a dataframe of the feature names and their rankings from the Boruta feature selector\n",
    "features1 = pd.DataFrame(features.columns.tolist(), columns=['Feature Name'])\n",
    "features1['Rank'] = boruta_selector.ranking_\n",
    "\n",
    "# Sort the dataframe based on the rankings\n",
    "features1 = features1.sort_values('Rank', ascending=True).reset_index(drop=True)\n",
    "\n",
    "# Display the dataframe\n",
    "print(features1)\n"
   ]
  },
  {
   "cell_type": "code",
   "execution_count": null,
   "metadata": {},
   "outputs": [],
   "source": [
    "# Get the list of columns to drop\n",
    "#the Boruta didn't predict the rank 1\n",
    "original_columns = features.columns\n",
    "X = features.values\n",
    "...\n",
    "X = pd.DataFrame(X, columns=original_columns)\n",
    "columns_to_drop = X.columns[~boruta_selector.support_]\n",
    "print(\"Columns to Drop:\", columns_to_drop)\n"
   ]
  },
  {
   "cell_type": "code",
   "execution_count": null,
   "metadata": {},
   "outputs": [],
   "source": [
    "# drop columns_to drop\n",
    "features = features.drop(columns_to_drop, axis = 1)\n"
   ]
  },
  {
   "cell_type": "code",
   "execution_count": null,
   "metadata": {},
   "outputs": [],
   "source": [
    "test_df = test_df.drop(columns_to_drop, axis = 1)"
   ]
  },
  {
   "cell_type": "code",
   "execution_count": null,
   "metadata": {},
   "outputs": [],
   "source": [
    "# Split the data into training and validation sets\n",
    "X_train, X_val, y_train, y_val = train_test_split(features, target, test_size=0.2)\n",
    "# Convert dataframes to numpy arrays\n",
    "X_train = X_train.values\n",
    "X_val = X_val.values\n",
    "y_train = y_train.values\n",
    "y_val = y_val.values"
   ]
  },
  {
   "cell_type": "code",
   "execution_count": null,
   "metadata": {},
   "outputs": [],
   "source": [
    "def Linear_svc_model(X_train, X_val, y_train, y_val, test_df):\n",
    "    if __name__ == '__main__':\n",
    "        \n",
    "        #scl = StandardScaler()\n",
    "        clf = LinearSVC()\n",
    "        \n",
    "        parameters = {'C':[0.001,0.01,0.1,1.0,10.0,100.0],'class_weight':[None, 'balanced']}\n",
    "\n",
    "        estimator = GridSearchCV(clf, parameters,n_jobs=-1)\n",
    "\n",
    "        estimator.fit(X_train, y_train)\n",
    "\n",
    "        best_params = estimator.best_params_\n",
    "                                 \n",
    "        validation_accuracy = estimator.score(X_val, y_val)\n",
    "        print('Validation accuracy: ', validation_accuracy)\n",
    "        print(best_params)"
   ]
  },
  {
   "cell_type": "code",
   "execution_count": null,
   "metadata": {},
   "outputs": [],
   "source": [
    "Linear_svc_model(X_train, X_val, y_train, y_val, test_df)"
   ]
  },
  {
   "cell_type": "code",
   "execution_count": null,
   "metadata": {},
   "outputs": [],
   "source": [
    "target.dtype"
   ]
  },
  {
   "cell_type": "code",
   "execution_count": null,
   "metadata": {},
   "outputs": [],
   "source": [
    "Linear_svc_model(X_train, X_val, y_train, y_val, test_df):\n",
    "    if __name__ == '__main__':\n",
    "        \n",
    "        #scl = StandardScaler()\n",
    "        clf = LinearSVC()\n",
    "        \n",
    "        parameters = {'C':[0.001,0.01,0.1,1.0,10.0,100.0],'class_weight':[None, 'balanced']}\n",
    "\n",
    "        estimator = GridSearchCV(clf, parameters,n_jobs=-1)\n",
    "\n",
    "        estimator.fit(X_train, y_train)\n",
    "\n",
    "        best_params = estimator.best_params_\n",
    "                                 \n",
    "        validation_accuracy = estimator.score(X_val, y_val)\n",
    "        print('Validation accuracy: ', validation_accuracy)\n",
    "        print(best_params)\n",
    "Linear_svc_model(X_train, X_val, y_train, y_val, test_df)"
   ]
  }
 ],
 "metadata": {
  "kernelspec": {
   "display_name": "Python 3",
   "language": "python",
   "name": "python3"
  },
  "language_info": {
   "codemirror_mode": {
    "name": "ipython",
    "version": 3
   },
   "file_extension": ".py",
   "mimetype": "text/x-python",
   "name": "python",
   "nbconvert_exporter": "python",
   "pygments_lexer": "ipython3",
   "version": "3.8.5"
  }
 },
 "nbformat": 4,
 "nbformat_minor": 4
}
